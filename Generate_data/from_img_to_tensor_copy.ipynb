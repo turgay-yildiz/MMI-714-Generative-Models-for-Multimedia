{
 "cells": [
  {
   "cell_type": "code",
   "execution_count": 1,
   "id": "f7406692-553d-4f7f-a580-edbdcd1c1b8c",
   "metadata": {},
   "outputs": [],
   "source": [
    "import os\n",
    "import numpy as np\n",
    "from PIL import Image\n",
    "import matplotlib.pyplot as plt\n",
    "from tqdm import tqdm"
   ]
  },
  {
   "cell_type": "code",
   "execution_count": 2,
   "id": "1782cf59-4143-47e3-a56e-608493ceb75d",
   "metadata": {},
   "outputs": [],
   "source": [
    "path_image = \"/home/turgay/Downloads/block_towers/blocks_real/img_concat/\"\n",
    "path_color = \"/home/turgay/Downloads/block_towers/blocks_real/mask_color/\"\n",
    "path_order = \"/home/turgay/Downloads/block_towers/blocks_real/mask_order/\""
   ]
  },
  {
   "cell_type": "code",
   "execution_count": 3,
   "id": "b4a93bb0-8f44-45e1-b8e9-025eb6d9238f",
   "metadata": {},
   "outputs": [],
   "source": [
    "dirs_image = sorted(os.listdir(path_image))\n"
   ]
  },
  {
   "cell_type": "code",
   "execution_count": 4,
   "id": "af5ff530-c550-48df-a86f-a99f7aa29488",
   "metadata": {},
   "outputs": [
    {
     "data": {
      "text/plain": [
       "['img_concat_1.png', 'img_concat_10.png', 'img_concat_100.png']"
      ]
     },
     "execution_count": 4,
     "metadata": {},
     "output_type": "execute_result"
    }
   ],
   "source": [
    "dirs_image[:3]"
   ]
  },
  {
   "cell_type": "code",
   "execution_count": 5,
   "id": "85dd5281-cb69-4780-a32b-070c4727a462",
   "metadata": {
    "jupyter": {
     "source_hidden": true
    },
    "tags": []
   },
   "outputs": [],
   "source": [
    "file_path = os.path.join(path, dirs[3])"
   ]
  },
  {
   "cell_type": "code",
   "execution_count": 6,
   "id": "2ca1bb51-a279-48e8-81a5-575264106ba0",
   "metadata": {
    "jupyter": {
     "source_hidden": true
    },
    "tags": []
   },
   "outputs": [],
   "source": [
    "concatenated_image = Image.open(file_path)"
   ]
  },
  {
   "cell_type": "code",
   "execution_count": 7,
   "id": "8cf87119-6a75-49cb-af4f-10f94ebc0c44",
   "metadata": {
    "collapsed": true,
    "jupyter": {
     "outputs_hidden": true,
     "source_hidden": true
    },
    "tags": []
   },
   "outputs": [
    {
     "data": {
      "text/plain": [
       "(224, 22400)"
      ]
     },
     "execution_count": 7,
     "metadata": {},
     "output_type": "execute_result"
    }
   ],
   "source": [
    "concat_width, concat_height = concatenated_image.size \n",
    "\n",
    "concat_width, concat_height\n"
   ]
  },
  {
   "cell_type": "code",
   "execution_count": 8,
   "id": "74a1d531-069a-468a-a873-33b43b4d3e0d",
   "metadata": {
    "collapsed": true,
    "jupyter": {
     "outputs_hidden": true,
     "source_hidden": true
    },
    "tags": []
   },
   "outputs": [
    {
     "data": {
      "text/plain": [
       "100"
      ]
     },
     "execution_count": 8,
     "metadata": {},
     "output_type": "execute_result"
    }
   ],
   "source": [
    "num_components = concat_height // 224\n",
    "num_components"
   ]
  },
  {
   "cell_type": "code",
   "execution_count": 9,
   "id": "0d399297-5dd2-47c8-a050-6602e9814fb8",
   "metadata": {
    "jupyter": {
     "source_hidden": true
    },
    "tags": []
   },
   "outputs": [],
   "source": [
    "img_height, img_width = 224, 224 "
   ]
  },
  {
   "cell_type": "code",
   "execution_count": 62,
   "id": "8e6f727d-c452-4b6d-be93-20f783823ba3",
   "metadata": {
    "collapsed": true,
    "jupyter": {
     "outputs_hidden": true,
     "source_hidden": true
    },
    "tags": []
   },
   "outputs": [
    {
     "name": "stdout",
     "output_type": "stream",
     "text": [
      "Skipping due to mismatched dimensions.\n"
     ]
    }
   ],
   "source": [
    "if concat_width != img_width or concat_height % img_height != 0:\n",
    "\n",
    "    print(f\"Skipping due to mismatched dimensions.\")\n",
    "    "
   ]
  },
  {
   "cell_type": "code",
   "execution_count": 37,
   "id": "0a8b000f-b234-4e3e-9c98-c20f6231d7a5",
   "metadata": {
    "jupyter": {
     "source_hidden": true
    },
    "tags": []
   },
   "outputs": [],
   "source": [
    "#  cropped_image = image.crop((left, upper, right, lower))\n",
    "\n",
    "components = [\n",
    "                        concatenated_image.crop((0, i * img_height, img_width, (i+1) * img_height))\n",
    "\n",
    "                        for i in range(num_components)\n",
    "                    ]"
   ]
  },
  {
   "cell_type": "code",
   "execution_count": 38,
   "id": "ab9a8bd0-182d-4ca2-8c3e-67d623319f9b",
   "metadata": {
    "jupyter": {
     "source_hidden": true
    },
    "tags": []
   },
   "outputs": [],
   "source": [
    "c = np.array(components)"
   ]
  },
  {
   "cell_type": "code",
   "execution_count": 39,
   "id": "a117ee7c-f615-47ef-add9-bc37fced507b",
   "metadata": {
    "collapsed": true,
    "jupyter": {
     "outputs_hidden": true,
     "source_hidden": true
    },
    "tags": []
   },
   "outputs": [
    {
     "data": {
      "text/plain": [
       "(100, 224, 224, 3)"
      ]
     },
     "execution_count": 39,
     "metadata": {},
     "output_type": "execute_result"
    }
   ],
   "source": [
    "c.shape"
   ]
  },
  {
   "cell_type": "code",
   "execution_count": 40,
   "id": "936a8ae2-b78b-4e43-8e00-f36f52a5bafd",
   "metadata": {
    "jupyter": {
     "source_hidden": true
    },
    "tags": []
   },
   "outputs": [],
   "source": [
    "all_pairs = []\n",
    "\n",
    "for i in range(len(components) - 1):\n",
    "    \n",
    "            img1 = np.array(components[i])\n",
    "            img2 = np.array(components[i + 1])\n",
    "\n",
    "            all_pairs.append(np.stack([img1, img2], axis=0))\n"
   ]
  },
  {
   "cell_type": "code",
   "execution_count": 41,
   "id": "c57d2fc9-e53f-43a0-84b0-0216772972c2",
   "metadata": {
    "jupyter": {
     "source_hidden": true
    },
    "tags": []
   },
   "outputs": [],
   "source": [
    "tensor = np.stack(all_pairs, axis=0)"
   ]
  },
  {
   "cell_type": "code",
   "execution_count": 42,
   "id": "d90c7f1a-0188-4178-9131-9fba33e18e3b",
   "metadata": {
    "collapsed": true,
    "jupyter": {
     "outputs_hidden": true,
     "source_hidden": true
    },
    "tags": []
   },
   "outputs": [
    {
     "data": {
      "text/plain": [
       "(99, 2, 224, 224, 3)"
      ]
     },
     "execution_count": 42,
     "metadata": {},
     "output_type": "execute_result"
    }
   ],
   "source": [
    "tensor.shape"
   ]
  },
  {
   "cell_type": "code",
   "execution_count": 7,
   "id": "f1a849b4-3ba9-4825-b7ef-d8cae9e6664a",
   "metadata": {
    "jupyter": {
     "source_hidden": true
    }
   },
   "outputs": [],
   "source": [
    "def create_image_pairs(img, colr, ordr, image_shape=(224, 224)):\n",
    "\n",
    "    path_images     =  sorted(os.listdir(img)) \n",
    "    path_colors     =  sorted(os.listdir(colr)) \n",
    "    path_orders     =  sorted(os.listdir(ordr)) \n",
    "    \n",
    "    all_pairs = []\n",
    "    iteration = 0 \n",
    "\n",
    "    for i, f1, f2, f3 in tqdm(enumerate(zip(path_images, path_colors, path_orders)), total=len(files), desc=\"Processing files\"):\n",
    "        \n",
    "        image_path = os.path.join(path_image, f1)\n",
    "        color_path = os.path.join(path_color, f2)\n",
    "        order_path = os.path.join(path_order, f3)\n",
    "        \n",
    "        try:\n",
    "            concatenated_image = Image.open(image_path)\n",
    "        except Exception as e:\n",
    "            print(f\"Error opening {f1}: {e}\") \n",
    "            continue\n",
    "\n",
    "        try:\n",
    "            concatenated_color = Image.open(color_path)\n",
    "        except Exception as e:\n",
    "            print(f\"Error opening {f2}: {e}\") \n",
    "            continue\n",
    "\n",
    "        try:\n",
    "            concatenated_order = Image.open(order_path)\n",
    "        except Exception as e:\n",
    "            print(f\"Error opening {f3}: {e}\") \n",
    "            continue\n",
    "\n",
    "        concat_width, concat_height = concatenated_image.size \n",
    "        img_width, img_height       = image_shape\n",
    "\n",
    "        if concat_width != img_width or concat_height % img_height != 0:\n",
    "            print(f\"Skipping {file_name} due to mismatched dimensions.\")\n",
    "            continue\n",
    "\n",
    "        num_components = concat_height // img_width\n",
    "\n",
    "\n",
    "        component_imgs = [\n",
    "                        concatenated_image.crop((0, i * img_height, img_width, (i+1) * img_height))\n",
    "\n",
    "                        for i in range(num_components)\n",
    "                    ]\n",
    "\n",
    "        component_colors = [\n",
    "                        concatenated_color.crop((0, i * img_height, img_width, (i+1) * img_height))\n",
    "\n",
    "                        for i in range(num_components)\n",
    "                    ]\n",
    "\n",
    "        component_orders = [\n",
    "                        concatenated_order.crop((0, i * img_height, img_width, (i+1) * img_height))\n",
    "\n",
    "                        for i in range(num_components)\n",
    "                    ]\n",
    "        \n",
    "\n",
    "        for j in range(len(components)-1):\n",
    "            \n",
    "            img1 = np.array(component_imgs[j])\n",
    "            img2 = np.array(component_imgs[j + 1])\n",
    "\n",
    "            clr1 = np.array(component_colors[j])\n",
    "            clr2 = np.array(component_colors[j + 1])\n",
    "\n",
    "            ord1 = np.array(component_orders[j])\n",
    "            ord2 = np.array(component_orders[j + 1]) \n",
    "\n",
    "            all_pairs.append(np.stack([img1, clr1, ord1, img2, clr2, ord2], axis=0))\n",
    "            \n",
    "        \n",
    "        if (i + 1) % 200 == 0 or i + 1 == len(files):\n",
    "            \n",
    "            num    =  np.str_(i + 1)\n",
    "            tensor =  np.stack(all_pairs, axis=0)\n",
    "            name   =  f\"block_data{num}.npy\"\n",
    "            print(name, \" is being saved...\")\n",
    "            np.save(name, tensor) \n",
    "            print(name, \" was succesfully saved.\")\n",
    "            all_pairs = []\n",
    "\n"
   ]
  },
  {
   "cell_type": "code",
   "execution_count": null,
   "id": "8203d69c-9dfc-4d67-86a8-8da80db5c579",
   "metadata": {},
   "outputs": [],
   "source": []
  },
  {
   "cell_type": "code",
   "execution_count": 4,
   "id": "d1c950a0-8d65-4dd2-a8ab-bbd326f05027",
   "metadata": {},
   "outputs": [],
   "source": [
    "def create_image_pairs(img, colr, ordr, image_shape=(224, 224)):\n",
    "    \n",
    "    path_images = sorted(os.listdir(img))\n",
    "    path_colors = sorted(os.listdir(colr))\n",
    "    path_orders = sorted(os.listdir(ordr))\n",
    "\n",
    "    all_pairs   = []\n",
    "    iteration   = 0\n",
    "\n",
    "    for i, (f1, f2, f3) in tqdm(enumerate(zip(path_images, path_colors, path_orders)), total=len(path_images), desc=\"Processing files\"):\n",
    "        \n",
    "        image_path = os.path.join(img, f1)\n",
    "        color_path = os.path.join(colr, f2)\n",
    "        order_path = os.path.join(ordr, f3)\n",
    "\n",
    "        try:\n",
    "            concatenated_image = Image.open(image_path)\n",
    "        except Exception as e:\n",
    "            print(f\"Error opening {f1}: {e}\")\n",
    "            continue\n",
    "\n",
    "        try:\n",
    "            concatenated_color = Image.open(color_path)\n",
    "        except Exception as e:\n",
    "            print(f\"Error opening {f2}: {e}\")\n",
    "            continue\n",
    "\n",
    "        try:\n",
    "            concatenated_order = Image.open(order_path)\n",
    "        except Exception as e:\n",
    "            print(f\"Error opening {f3}: {e}\")\n",
    "            continue\n",
    "\n",
    "        concat_width, concat_height = concatenated_image.size\n",
    "        img_width, img_height       = image_shape\n",
    "\n",
    "        if concat_width != img_width or concat_height % img_height != 0:\n",
    "            print(f\"Skipping {f1} due to mismatched dimensions.\")\n",
    "            continue\n",
    "\n",
    "        num_components    = concat_height // img_height\n",
    "\n",
    "        component_imgs    = [concatenated_image.crop((0, i * img_height, img_width, (i + 1) * img_height)) for i in range(num_components)]\n",
    "        component_colors  = [concatenated_color.crop((0, i * img_height, img_width, (i + 1) * img_height)) for i in range(num_components)]\n",
    "        component_orders  = [concatenated_order.crop((0, i * img_height, img_width, (i + 1) * img_height)) for i in range(num_components)]\n",
    "\n",
    "        for j in range(len(component_imgs) - 1):\n",
    "            img1 = np.array(component_imgs[j])\n",
    "            img2 = np.array(component_imgs[j + 1])\n",
    "\n",
    "            clr1 = np.array(component_colors[j])\n",
    "            clr2 = np.array(component_colors[j + 1])\n",
    "\n",
    "            ord1 = np.array(component_orders[j])\n",
    "            ord2 = np.array(component_orders[j + 1])\n",
    "\n",
    "            all_pairs.append(np.stack([img1, clr1, ord1, img2, clr2, ord2], axis=0))\n",
    "\n",
    "        if (i + 1) % 50 == 0 or i + 1 == len(path_images):\n",
    "            num    = str(i + 1)\n",
    "            tensor = np.stack(all_pairs, axis=0)\n",
    "            name   = f\"block_data{num}.npy\"\n",
    "            print(name, \"is being saved...\")\n",
    "            np.save(name, tensor)\n",
    "            print(name, \"was successfully saved.\")\n",
    "            all_pairs = []\n"
   ]
  },
  {
   "cell_type": "code",
   "execution_count": 7,
   "id": "895daa31-98f4-42af-baa9-13a111d58fc5",
   "metadata": {},
   "outputs": [
    {
     "name": "stderr",
     "output_type": "stream",
     "text": [
      "Processing files:   9%|▉         | 49/516 [00:08<01:10,  6.59it/s]"
     ]
    },
    {
     "name": "stdout",
     "output_type": "stream",
     "text": [
      "block_data50.npy is being saved...\n"
     ]
    },
    {
     "name": "stderr",
     "output_type": "stream",
     "text": [
      "Processing files:  10%|▉         | 50/516 [00:10<06:21,  1.22it/s]"
     ]
    },
    {
     "name": "stdout",
     "output_type": "stream",
     "text": [
      "block_data50.npy was successfully saved.\n"
     ]
    },
    {
     "name": "stderr",
     "output_type": "stream",
     "text": [
      "Processing files:  19%|█▉        | 99/516 [00:17<01:12,  5.78it/s]"
     ]
    },
    {
     "name": "stdout",
     "output_type": "stream",
     "text": [
      "block_data100.npy is being saved...\n"
     ]
    },
    {
     "name": "stderr",
     "output_type": "stream",
     "text": [
      "Processing files:  19%|█▉        | 100/516 [00:59<1:27:48, 12.67s/it]"
     ]
    },
    {
     "name": "stdout",
     "output_type": "stream",
     "text": [
      "block_data100.npy was successfully saved.\n"
     ]
    },
    {
     "name": "stderr",
     "output_type": "stream",
     "text": [
      "Processing files:  29%|██▉       | 149/516 [01:15<00:55,  6.61it/s]  "
     ]
    },
    {
     "name": "stdout",
     "output_type": "stream",
     "text": [
      "block_data150.npy is being saved...\n"
     ]
    },
    {
     "name": "stderr",
     "output_type": "stream",
     "text": [
      "Processing files:  29%|██▉       | 150/516 [01:39<25:57,  4.26s/it]"
     ]
    },
    {
     "name": "stdout",
     "output_type": "stream",
     "text": [
      "block_data150.npy was successfully saved.\n"
     ]
    },
    {
     "name": "stderr",
     "output_type": "stream",
     "text": [
      "Processing files:  39%|███▊      | 199/516 [01:57<00:45,  6.99it/s]"
     ]
    },
    {
     "name": "stdout",
     "output_type": "stream",
     "text": [
      "block_data200.npy is being saved...\n"
     ]
    },
    {
     "name": "stderr",
     "output_type": "stream",
     "text": [
      "Processing files:  39%|███▉      | 200/516 [02:00<04:17,  1.23it/s]"
     ]
    },
    {
     "name": "stdout",
     "output_type": "stream",
     "text": [
      "block_data200.npy was successfully saved.\n"
     ]
    },
    {
     "name": "stderr",
     "output_type": "stream",
     "text": [
      "Processing files:  48%|████▊     | 249/516 [02:16<00:34,  7.82it/s]"
     ]
    },
    {
     "name": "stdout",
     "output_type": "stream",
     "text": [
      "block_data250.npy is being saved...\n"
     ]
    },
    {
     "name": "stderr",
     "output_type": "stream",
     "text": [
      "Processing files:  48%|████▊     | 250/516 [02:30<16:06,  3.63s/it]"
     ]
    },
    {
     "name": "stdout",
     "output_type": "stream",
     "text": [
      "block_data250.npy was successfully saved.\n"
     ]
    },
    {
     "name": "stderr",
     "output_type": "stream",
     "text": [
      "Processing files:  58%|█████▊    | 298/516 [02:44<00:22,  9.71it/s]"
     ]
    },
    {
     "name": "stdout",
     "output_type": "stream",
     "text": [
      "block_data300.npy is being saved...\n"
     ]
    },
    {
     "name": "stderr",
     "output_type": "stream",
     "text": [
      "Processing files:  58%|█████▊    | 300/516 [03:00<08:54,  2.47s/it]"
     ]
    },
    {
     "name": "stdout",
     "output_type": "stream",
     "text": [
      "block_data300.npy was successfully saved.\n"
     ]
    },
    {
     "name": "stderr",
     "output_type": "stream",
     "text": [
      "Processing files:  68%|██████▊   | 349/516 [03:13<00:29,  5.59it/s]"
     ]
    },
    {
     "name": "stdout",
     "output_type": "stream",
     "text": [
      "block_data350.npy is being saved...\n"
     ]
    },
    {
     "name": "stderr",
     "output_type": "stream",
     "text": [
      "Processing files:  68%|██████▊   | 350/516 [03:45<21:46,  7.87s/it]"
     ]
    },
    {
     "name": "stdout",
     "output_type": "stream",
     "text": [
      "block_data350.npy was successfully saved.\n"
     ]
    },
    {
     "name": "stderr",
     "output_type": "stream",
     "text": [
      "Processing files:  77%|███████▋  | 399/516 [04:08<00:12,  9.20it/s]"
     ]
    },
    {
     "name": "stdout",
     "output_type": "stream",
     "text": [
      "block_data400.npy is being saved...\n"
     ]
    },
    {
     "name": "stderr",
     "output_type": "stream",
     "text": [
      "Processing files:  78%|███████▊  | 400/516 [04:14<02:05,  1.08s/it]"
     ]
    },
    {
     "name": "stdout",
     "output_type": "stream",
     "text": [
      "block_data400.npy was successfully saved.\n"
     ]
    },
    {
     "name": "stderr",
     "output_type": "stream",
     "text": [
      "Processing files:  87%|████████▋ | 449/516 [04:26<00:05, 11.20it/s]"
     ]
    },
    {
     "name": "stdout",
     "output_type": "stream",
     "text": [
      "block_data450.npy is being saved...\n"
     ]
    },
    {
     "name": "stderr",
     "output_type": "stream",
     "text": [
      "Processing files:  87%|████████▋ | 450/516 [04:52<05:34,  5.06s/it]"
     ]
    },
    {
     "name": "stdout",
     "output_type": "stream",
     "text": [
      "block_data450.npy was successfully saved.\n"
     ]
    },
    {
     "name": "stderr",
     "output_type": "stream",
     "text": [
      "Processing files:  97%|█████████▋| 499/516 [05:02<00:01,  8.77it/s]"
     ]
    },
    {
     "name": "stdout",
     "output_type": "stream",
     "text": [
      "block_data500.npy is being saved...\n"
     ]
    },
    {
     "name": "stderr",
     "output_type": "stream",
     "text": [
      "Processing files:  97%|█████████▋| 500/516 [05:11<00:35,  2.20s/it]"
     ]
    },
    {
     "name": "stdout",
     "output_type": "stream",
     "text": [
      "block_data500.npy was successfully saved.\n"
     ]
    },
    {
     "name": "stderr",
     "output_type": "stream",
     "text": [
      "Processing files: 100%|█████████▉| 515/516 [05:24<00:00,  1.44it/s]"
     ]
    },
    {
     "name": "stdout",
     "output_type": "stream",
     "text": [
      "block_data516.npy is being saved...\n"
     ]
    },
    {
     "name": "stderr",
     "output_type": "stream",
     "text": [
      "Processing files: 100%|██████████| 516/516 [05:26<00:00,  1.58it/s]"
     ]
    },
    {
     "name": "stdout",
     "output_type": "stream",
     "text": [
      "block_data516.npy was successfully saved.\n"
     ]
    },
    {
     "name": "stderr",
     "output_type": "stream",
     "text": [
      "\n"
     ]
    }
   ],
   "source": [
    "create_image_pairs(path_image, path_color, path_order)"
   ]
  },
  {
   "cell_type": "code",
   "execution_count": null,
   "id": "d21abb43-02d1-43ba-bbe7-787ed6de8c99",
   "metadata": {},
   "outputs": [],
   "source": []
  },
  {
   "cell_type": "code",
   "execution_count": 5,
   "id": "6eb8c260-565b-4238-a2ac-a8855fb31c90",
   "metadata": {},
   "outputs": [],
   "source": [
    "data_path  =  \"/home/turgay/Turgay/Academic/2024-2025/Fall/Generative_Models/Final_Project/Codes/Synthetic_data_generate/\""
   ]
  },
  {
   "cell_type": "code",
   "execution_count": 6,
   "id": "82d92e64-620f-4dd9-bc9d-5020fe4d6251",
   "metadata": {},
   "outputs": [
    {
     "data": {
      "text/plain": [
       "['.ipynb_checkpoints',\n",
       " '.jupyter',\n",
       " '.virtual_documents',\n",
       " 'block_data.ipynb',\n",
       " 'block_data100.npy',\n",
       " 'block_data150.npy',\n",
       " 'block_data200.npy',\n",
       " 'block_data250.npy',\n",
       " 'block_data300.npy',\n",
       " 'block_data350.npy',\n",
       " 'block_data400.npy',\n",
       " 'block_data450.npy',\n",
       " 'block_data50.npy',\n",
       " 'block_data500.npy',\n",
       " 'block_data516.npy',\n",
       " 'concatenated_data.npy',\n",
       " 'csv',\n",
       " 'images',\n",
       " 'newton_2.ipynb',\n",
       " 'newton_latent_create_data.ipynb']"
      ]
     },
     "execution_count": 6,
     "metadata": {},
     "output_type": "execute_result"
    }
   ],
   "source": [
    "data = sorted(os.listdir(data_path))\n",
    "data"
   ]
  },
  {
   "cell_type": "code",
   "execution_count": 13,
   "id": "d5851723-d7eb-4b10-b52a-8f272b2e95f4",
   "metadata": {},
   "outputs": [],
   "source": [
    "path_1  =  data_path + \"block_data50.npy\"\n",
    "path_2  =  data_path + \"block_data100.npy\"\n",
    "path_3  =  data_path + \"block_data150.npy\"\n",
    "path_4  =  data_path + \"block_data200.npy\"\n",
    "path_5  =  data_path + \"block_data250.npy\"\n",
    "path_6  =  data_path + \"block_data300.npy\"\n",
    "path_7  =  data_path + \"block_data350.npy\"\n",
    "path_8  =  data_path + \"block_data400.npy\"\n",
    "path_9  =  data_path + \"block_data450.npy\"\n",
    "path_10  =  data_path + \"block_data500.npy\"\n",
    "path_11  =  data_path + \"block_data516.npy\""
   ]
  },
  {
   "cell_type": "code",
   "execution_count": 14,
   "id": "5902566f-5684-4d5b-a2d8-8f8d7f59be39",
   "metadata": {},
   "outputs": [],
   "source": [
    "data_1 = np.load(path_1, mmap_mode=\"r\")\n",
    "data_2 = np.load(path_2, mmap_mode=\"r\")\n",
    "data_3 = np.load(path_3, mmap_mode=\"r\")\n",
    "data_4 = np.load(path_4, mmap_mode=\"r\")\n",
    "data_5 = np.load(path_5, mmap_mode=\"r\")\n",
    "data_6 = np.load(path_6, mmap_mode=\"r\")\n",
    "data_7 = np.load(path_7, mmap_mode=\"r\")\n",
    "data_8 = np.load(path_8, mmap_mode=\"r\")\n",
    "data_9 = np.load(path_9, mmap_mode=\"r\")\n",
    "data_10 = np.load(path_10, mmap_mode=\"r\")\n",
    "data_11 = np.load(path_11, mmap_mode=\"r\")"
   ]
  },
  {
   "cell_type": "code",
   "execution_count": 15,
   "id": "3039046f-0abd-481d-ae16-a36d7bebfe3c",
   "metadata": {},
   "outputs": [],
   "source": [
    "output_path = data_path + \"concatenated_data.npy\"\n",
    "\n",
    "np.save(output_path, data_1)"
   ]
  },
  {
   "cell_type": "code",
   "execution_count": 16,
   "id": "4bcc0cef-8e7a-44eb-8b8c-10c51e7121f6",
   "metadata": {},
   "outputs": [],
   "source": [
    "def append_to_file(data_path, data_to_append):\n",
    "    with open(data_path, 'ab') as f:  # 'ab' mode to append in binary format\n",
    "        np.save(f, data_to_append)"
   ]
  },
  {
   "cell_type": "code",
   "execution_count": 23,
   "id": "5018dbd3-f407-4969-b80e-ba454470461e",
   "metadata": {},
   "outputs": [],
   "source": [
    "datas  =  [\n",
    "  data_1 ,\n",
    "  data_2 ,\n",
    "  data_3 ,\n",
    "  data_4 ,\n",
    "  data_5 ,\n",
    "  data_6 ,\n",
    "  data_7 ,\n",
    "  data_8 ,\n",
    "  data_9 ,\n",
    "  data_10 ,\n",
    "  data_11 ]"
   ]
  },
  {
   "cell_type": "code",
   "execution_count": 24,
   "id": "ea37753e-d292-4fe9-b9d4-4393b5df6d21",
   "metadata": {},
   "outputs": [],
   "source": [
    "for data in datas:\n",
    "    \n",
    "    append_to_file(output_path, data)"
   ]
  },
  {
   "cell_type": "code",
   "execution_count": 18,
   "id": "6504751f-44c2-444e-ae13-7dcda5d12e35",
   "metadata": {},
   "outputs": [],
   "source": [
    "new  =  np.concatenate((data_1, data_2))"
   ]
  },
  {
   "cell_type": "code",
   "execution_count": 19,
   "id": "5c8bcb92-46d1-4dcf-a3c3-96f34afbc3fb",
   "metadata": {},
   "outputs": [
    {
     "data": {
      "text/plain": [
       "(4760, 6, 224, 224, 3)"
      ]
     },
     "execution_count": 19,
     "metadata": {},
     "output_type": "execute_result"
    }
   ],
   "source": [
    "new.shape"
   ]
  },
  {
   "cell_type": "code",
   "execution_count": 11,
   "id": "bcfdead4-e6ff-4b79-9894-b8cb5619f903",
   "metadata": {
    "tags": []
   },
   "outputs": [],
   "source": [
    "def plot_img(data, row, col, size1, size2, c_map = None): \n",
    "    if (row == 1) and (col == 1): \n",
    "        fig, ax = plt.subplots(1, 1, figsize=(size1, size2))\n",
    "        ax.imshow(data, cmap=c_map) \n",
    "        ax.set_axis_off() \n",
    "\n",
    "    elif (row == 1) and (col > 1):\n",
    "        fig, axes = plt.subplots(1, col, figsize=(size1, size2))\n",
    "        for i in range(col):\n",
    "            axes[i].imshow(data[i], cmap=c_map) \n",
    "            axes[i].set_axis_off() \n",
    "            axes[i].set_title(f\"Image {i}\")\n",
    "\n",
    "    else:\n",
    "        fig, axes = plt.subplots(row, col, figsize=(size1, size2))\n",
    "        axes = axes.flatten()  # Flatten the axes to make indexing easier\n",
    "        for i in range(row * col):\n",
    "            if i < len(data):  # Ensure you do not exceed the length of data\n",
    "                axes[i].imshow(data[i], cmap=c_map) \n",
    "                axes[i].set_axis_off()  \n",
    "                axes[i].set_title(f\"Image {i}\")\n",
    "            else:\n",
    "                axes[i].axis('off')  # Turn off unused axes\n",
    "\n",
    "    plt.tight_layout()  \n",
    "    plt.show()\n"
   ]
  },
  {
   "cell_type": "code",
   "execution_count": 7,
   "id": "6164cf30-77b0-450d-b62d-df6d4d7227f6",
   "metadata": {},
   "outputs": [],
   "source": [
    "path_12  =  data_path + \"concatenated_data.npy\""
   ]
  },
  {
   "cell_type": "code",
   "execution_count": 8,
   "id": "a9df642e-f69e-45fb-a2a9-6a1ad657a541",
   "metadata": {},
   "outputs": [],
   "source": [
    "data_12  =  np.load(path_12, mmap_mode=\"r\")"
   ]
  },
  {
   "cell_type": "code",
   "execution_count": 9,
   "id": "3ffec1a0-7a98-4202-9453-e5d5c87aa71a",
   "metadata": {},
   "outputs": [
    {
     "data": {
      "text/plain": [
       "(3529, 6, 224, 224, 3)"
      ]
     },
     "execution_count": 9,
     "metadata": {},
     "output_type": "execute_result"
    }
   ],
   "source": [
    "data_12.shape"
   ]
  },
  {
   "cell_type": "code",
   "execution_count": 27,
   "id": "77e51017-cb96-47d8-8c39-dd5c3a08af93",
   "metadata": {},
   "outputs": [],
   "source": [
    "data_temp_0  = data_12[:10, 1, :, :, :]"
   ]
  },
  {
   "cell_type": "code",
   "execution_count": 26,
   "id": "accbad4a-3cbe-4293-b806-772572df4bb9",
   "metadata": {},
   "outputs": [
    {
     "ename": "NameError",
     "evalue": "name 'data_temp_0' is not defined",
     "output_type": "error",
     "traceback": [
      "\u001b[0;31m---------------------------------------------------------------------------\u001b[0m",
      "\u001b[0;31mNameError\u001b[0m                                 Traceback (most recent call last)",
      "Cell \u001b[0;32mIn[26], line 1\u001b[0m\n\u001b[0;32m----> 1\u001b[0m data_temp_0 \u001b[38;5;241m=\u001b[39m (data_temp_0 \u001b[38;5;241m-\u001b[39m data_temp_0\u001b[38;5;241m.\u001b[39mmin()) \u001b[38;5;241m/\u001b[39m (data_temp_0\u001b[38;5;241m.\u001b[39mmax() \u001b[38;5;241m-\u001b[39m data_temp_0\u001b[38;5;241m.\u001b[39mmin())\n",
      "\u001b[0;31mNameError\u001b[0m: name 'data_temp_0' is not defined"
     ]
    }
   ],
   "source": [
    "data_temp_0 = (data_temp_0 - data_temp_0.min()) / (data_temp_0.max() - data_temp_0.min())"
   ]
  },
  {
   "cell_type": "code",
   "execution_count": 17,
   "id": "63fd092e-5fe9-46c6-8b0c-1b6f2770612a",
   "metadata": {},
   "outputs": [
    {
     "data": {
      "image/png": "[encoded data removed]",
      "text/plain": [
       "<Figure size 1000x1000 with 10 Axes>"
      ]
     },
     "metadata": {},
     "output_type": "display_data"
    }
   ],
   "source": [
    "plot_img(data_12[:10, 0, :, :, :] , 1, 10, 10, 10)"
   ]
  },
  {
   "cell_type": "code",
   "execution_count": 18,
   "id": "51ecb299-1073-4222-8268-0dbb22b7c5e8",
   "metadata": {},
   "outputs": [],
   "source": [
    "data_temp  = data_12[:10, 1, :, :, :]"
   ]
  },
  {
   "cell_type": "code",
   "execution_count": 19,
   "id": "a0522ddf-4f03-4363-87eb-890813862f82",
   "metadata": {},
   "outputs": [],
   "source": [
    "data_temp = (data_temp - data_temp.min()) / (data_temp.max() - data_temp.min())"
   ]
  },
  {
   "cell_type": "code",
   "execution_count": 20,
   "id": "179d9438-30e5-4df0-ba83-7801fb8d8f99",
   "metadata": {
    "scrolled": true
   },
   "outputs": [
    {
     "data": {
      "image/png": "[encoded data removed]",
      "text/plain": [
       "<Figure size 1000x1000 with 10 Axes>"
      ]
     },
     "metadata": {},
     "output_type": "display_data"
    }
   ],
   "source": [
    "plot_img(data_temp , 1, 10, 10, 10)"
   ]
  },
  {
   "cell_type": "code",
   "execution_count": 21,
   "id": "eb7dfbdf-98f2-4361-bce0-c4238f24c544",
   "metadata": {},
   "outputs": [],
   "source": [
    "data_temp2  = data_12[:10, 2, :, :, :]"
   ]
  },
  {
   "cell_type": "code",
   "execution_count": 24,
   "id": "b9c947ba-d969-4f14-81cd-ecaab364e02b",
   "metadata": {},
   "outputs": [],
   "source": [
    "data_temp2 = (data_temp2 - data_temp2.min()) / (data_temp2.max() - data_temp2.min())"
   ]
  },
  {
   "cell_type": "code",
   "execution_count": 25,
   "id": "cfb81bf3-adc0-4c55-b224-9275437405fa",
   "metadata": {},
   "outputs": [
    {
     "data": {
      "image/png": "[encoded data removed]",
      "text/plain": [
       "<Figure size 1000x1000 with 10 Axes>"
      ]
     },
     "metadata": {},
     "output_type": "display_data"
    }
   ],
   "source": [
    "plot_img(data_temp2, 1, 10, 10, 10)"
   ]
  },
  {
   "cell_type": "code",
   "execution_count": 130,
   "id": "51379081-9cf4-437c-80d8-c305aebe3bdc",
   "metadata": {},
   "outputs": [
    {
     "data": {
      "text/plain": [
       "(10, 2, 224, 224, 3)"
      ]
     },
     "execution_count": 130,
     "metadata": {},
     "output_type": "execute_result"
    }
   ],
   "source": [
    "data_temp  =  data_1[70:80]\n",
    "data_temp.shape"
   ]
  },
  {
   "cell_type": "code",
   "execution_count": 131,
   "id": "9af7b0a0-d002-4294-82b9-a82833f08004",
   "metadata": {},
   "outputs": [
    {
     "data": {
      "text/plain": [
       "(20, 224, 224, 3)"
      ]
     },
     "execution_count": 131,
     "metadata": {},
     "output_type": "execute_result"
    }
   ],
   "source": [
    "data_temp  =  data_temp.reshape(-1, 224, 224, 3)\n",
    "data_temp.shape"
   ]
  },
  {
   "cell_type": "code",
   "execution_count": 132,
   "id": "e82ee9e9-051b-4750-aa36-046eec067400",
   "metadata": {},
   "outputs": [],
   "source": [
    "data_temp = (data_temp - data_temp.min()) / (data_temp.max() - data_temp.min())"
   ]
  },
  {
   "cell_type": "code",
   "execution_count": 133,
   "id": "7a1f946f-f39a-411c-b52b-6616fc221f50",
   "metadata": {},
   "outputs": [
    {
     "data": {
      "image/png": "[encoded data removed]",
      "text/plain": [
       "<Figure size 200x1000 with 20 Axes>"
      ]
     },
     "metadata": {},
     "output_type": "display_data"
    }
   ],
   "source": [
    "plot_img(data_temp, 10, 2,  2,  10)"
   ]
  },
  {
   "cell_type": "code",
   "execution_count": null,
   "id": "d93db922-a235-48b0-ac44-bc0872653491",
   "metadata": {},
   "outputs": [],
   "source": []
  }
 ],
 "metadata": {
  "kernelspec": {
   "display_name": "Python 3 (ipykernel)",
   "language": "python",
   "name": "python3"
  },
  "language_info": {
   "codemirror_mode": {
    "name": "ipython",
    "version": 3
   },
   "file_extension": ".py",
   "mimetype": "text/x-python",
   "name": "python",
   "nbconvert_exporter": "python",
   "pygments_lexer": "ipython3",
   "version": "3.9.20"
  }
 },
 "nbformat": 4,
 "nbformat_minor": 5
}
