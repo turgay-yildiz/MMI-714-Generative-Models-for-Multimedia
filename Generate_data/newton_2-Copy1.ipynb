{
 "cells": [
  {
   "cell_type": "code",
   "execution_count": 48,
   "id": "eb06ad19-3f40-4327-8021-e7e6afa8cf29",
   "metadata": {
    "tags": []
   },
   "outputs": [],
   "source": [
    "import pymunk\n",
    "import random\n",
    "import pygame\n",
    "import cv2\n",
    "import numpy as np\n",
    "import os\n",
    "import pymunk.pygame_util \n",
    "import time\n",
    "import json\n",
    "import csv\n",
    "from PIL import Image\n",
    "import pandas as pd"
   ]
  },
  {
   "cell_type": "code",
   "execution_count": 7,
   "id": "895d88c0-5310-4d79-8d1c-f0810dd41729",
   "metadata": {},
   "outputs": [],
   "source": [
    "img_dir     = \"/home/turgay/falling_objects_dataset/img_files\"  \n",
    "csv_dir     = \"/home/turgay/falling_objects_dataset/csv_files\""
   ]
  },
  {
   "cell_type": "code",
   "execution_count": 8,
   "id": "7ec5a584-6fd7-4e5d-b30f-1982c53c436e",
   "metadata": {},
   "outputs": [],
   "source": [
    "world_width  = 512\n",
    "world_height = 512\n",
    "xCenter      = world_width / 2"
   ]
  },
  {
   "cell_type": "code",
   "execution_count": 9,
   "id": "09bd6ed8-d3bd-4731-927a-65acad4bbe45",
   "metadata": {},
   "outputs": [],
   "source": [
    "def dim():\n",
    "    return random.randint(50, 100)\n",
    "\n",
    "def xpos(prev_block):\n",
    "    prev_w = prev_block[2]  # width of the previous block\n",
    "    prev_x = prev_block[0]  # X position of the previous block\n",
    "    return random.randint( prev_x - prev_w + 5,  prev_x + prev_w - 5  )\n",
    "\n",
    "def ypos(prev_block, h):\n",
    "    prev_y = prev_block[1]  # Y position of the previous block\n",
    "    prev_h = prev_block[3]  # height of the previous block\n",
    "    return prev_y - ((prev_h/2)   +   (h  /  2)  ) \n",
    "\n",
    "\n",
    "def add_block(prev_block, is_first):\n",
    "    w = dim()\n",
    "    h = dim()\n",
    "    x = xCenter if is_first else xpos(prev_block)\n",
    "    y = ypos(prev_block, h)\n",
    "\n",
    "    return (x, y, w, h)\n",
    "\n",
    "def make_tower_world():\n",
    "    \n",
    "    ground_block = (xCenter, world_height-25, 100, 50)  \n",
    "    \n",
    "    block1 = add_block(ground_block, True)\n",
    "    block2 = add_block(block1, False)\n",
    "    block3 = add_block(block2, False)\n",
    "    block4 = add_block(block3, False)\n",
    "    return [ground_block, block1, block2, block3, block4]"
   ]
  },
  {
   "cell_type": "code",
   "execution_count": null,
   "id": "9a55d5fb-734d-4fbd-a4f5-2de5b8c23174",
   "metadata": {},
   "outputs": [],
   "source": []
  },
  {
   "cell_type": "code",
   "execution_count": 10,
   "id": "9eb18d1e-08e8-4723-a775-2609e84e30c3",
   "metadata": {
    "tags": []
   },
   "outputs": [],
   "source": [
    "def save_img(batch, iteration, screen):\n",
    "    \n",
    "#---------------------------------------------------------------------------------------------\n",
    "    pygame.image.save(screen, f\"{img_dir}/{np.int64(iteration / 50) + (batch * 20) }.png\")\n",
    "#---------------------------------------------------------------------------------------------            "
   ]
  },
  {
   "cell_type": "code",
   "execution_count": 11,
   "id": "3c2ae82d-6531-4eb1-bbbe-f0623faae17b",
   "metadata": {},
   "outputs": [],
   "source": [
    "def save_csv(block_data, batch, iteration):\n",
    "    \n",
    "#---------------------------------------------------------------------------------------------    \n",
    "    block_data2 = []\n",
    "    \n",
    "    blocks_for_csv        =   [data[\"block\"] for data in block_data[:]]\n",
    "    masses_for_csv        =   [data[\"mass\"] for data in block_data[:]]\n",
    "    color_r_for_csv       =   [data[\"color_r\"] for data in block_data[:]]   \n",
    "    color_g_for_csv       =   [data[\"color_g\"] for data in block_data[:]]\n",
    "    color_b_for_csv       =   [data[\"color_b\"] for data in block_data[:]]\n",
    "        \n",
    "    for block, mass, color_r, color_g, color_b in zip(blocks_for_csv, masses_for_csv, color_r_for_csv, color_g_for_csv, color_b_for_csv):\n",
    "        data = {\n",
    "            \"position_x\": block[0],\n",
    "            \"position_y\": block[1],\n",
    "            \"width\": block[2],\n",
    "            \"height\": block[3],\n",
    "            \"mass\": mass, \n",
    "            \"color_r\": color_r,\n",
    "            \"color_g\": color_g,\n",
    "            \"color_b\": color_b,\n",
    "            \"time\"      : iteration / 50\n",
    "        }\n",
    "        block_data2.append(data)\n",
    "\n",
    "#---------------------------------------------------------------------------------------------    \n",
    "    \n",
    "    csv_filename = f\"{csv_dir}/{np.int64(iteration / 50) + (batch * 20)}.csv\"\n",
    "    \n",
    "    # Check if CSV file exists to append or write headers\n",
    "    file_exists = os.path.exists(csv_filename)\n",
    "    with open(csv_filename, 'a', newline='') as csvfile:\n",
    "        fieldnames = [\"position_x\", \"position_y\", \"width\", \"height\", \"mass\", \"color_r\", \"color_g\", \"color_b\", \"time\"]\n",
    "        writer = csv.DictWriter(csvfile, fieldnames=fieldnames)\n",
    "        \n",
    "        # Write headers only if file doesn't exist\n",
    "        if not file_exists:\n",
    "            writer.writeheader()\n",
    "        \n",
    "        # Write the data of the blocks to the CSV file\n",
    "        writer.writerows(block_data2)\n"
   ]
  },
  {
   "cell_type": "code",
   "execution_count": 69,
   "id": "b62d2608-ea81-40ac-923d-682fc6af9dcb",
   "metadata": {
    "jupyter": {
     "source_hidden": true
    },
    "tags": []
   },
   "outputs": [],
   "source": [
    "def start_video(batch, fps=60):\n",
    "\n",
    "    video_path   =   f\"{video_dir}/{np.int64(batch) }.avi\"\n",
    "    \n",
    "    video_writer = cv2.VideoWriter(\n",
    "                                    video_path,\n",
    "                                    cv2.VideoWriter_fourcc(*'XVID'),\n",
    "                                    fps,\n",
    "                                    (world_width, world_height)\n",
    "                                    )\n",
    "    return video_writer"
   ]
  },
  {
   "cell_type": "code",
   "execution_count": 25,
   "id": "a82f840c-3491-40f2-87fc-75c1f8da0a50",
   "metadata": {
    "jupyter": {
     "source_hidden": true
    },
    "tags": []
   },
   "outputs": [],
   "source": [
    "def record_frames(video_writer, screen):\n",
    "\n",
    "    frame = pygame.surfarray.array3d(screen)  # Get frame data from Pygame\n",
    "    frame = np.transpose(frame, (1, 0, 2))    # Transpose to match OpenCV format\n",
    "    frame = cv2.cvtColor(frame, cv2.COLOR_RGB2BGR)  # Convert to OpenCV color format\n",
    "    video_writer.write(frame)  # Write frame to video file"
   ]
  },
  {
   "cell_type": "code",
   "execution_count": 26,
   "id": "d3f03744-1126-43ee-b9cc-5b3f2a778b43",
   "metadata": {
    "jupyter": {
     "source_hidden": true
    },
    "tags": []
   },
   "outputs": [],
   "source": [
    "def stop_video(video_writer):\n",
    "    video_writer.release()"
   ]
  },
  {
   "cell_type": "code",
   "execution_count": 12,
   "id": "2eccee93-d2d2-4fba-86f5-f6aa3a0796e5",
   "metadata": {
    "tags": []
   },
   "outputs": [],
   "source": [
    "def animate_tower(batch):\n",
    "    \n",
    "    pygame.init()\n",
    "    \n",
    "    space         = pymunk.Space()\n",
    "    space.gravity = (0, 9.8)\n",
    "\n",
    "    screen        = pygame.display.set_mode((world_width, world_height))\n",
    "    draw_options  = pymunk.pygame_util.DrawOptions(screen)\n",
    "\n",
    "    # Add ground \n",
    "    ground = pymunk.Segment(space.static_body, (0, world_height), (world_width, world_height), 0) \n",
    "    space.add(ground)\n",
    "\n",
    "    # Create blocks for the tower\n",
    "    blocks     = make_tower_world()\n",
    "    block_data = []\n",
    "\n",
    "    for block in blocks:\n",
    "        \n",
    "        mass          = random.randint(1, 10)\n",
    "        moment        = pymunk.moment_for_box(mass, (block[2], block[3]))   # mass, size(width, height)   obj= (x, y, w, h) \n",
    "        body          = pymunk.Body(mass, moment)\n",
    "        body.position = (block[0], block[1]) \n",
    "\n",
    "        shape   = pymunk.Poly.create_box(body, (block[2], block[3]))\n",
    "        \n",
    "        r, g, b = random.randint(0, 255), random.randint(0, 255), random.randint(0, 255)\n",
    "        shape.color = (r , g, b, 1.0)\n",
    "\n",
    "        space.add(body, shape)\n",
    "        block_data.append({\"mass\": mass, \"block\": block, \"color_r\": r, \"color_g\": g, \"color_b\": b })\n",
    "\n",
    "    \n",
    "    iteration = 0\n",
    "    while iteration <= 999:  \n",
    "                   \n",
    "        screen.fill((255, 255, 255))  \n",
    "        space.debug_draw(draw_options)\n",
    "        pygame.display.flip()\n",
    "\n",
    "        if iteration % 50  == 0:\n",
    "                \n",
    "            save_img(batch, iteration, screen)\n",
    "            save_csv(block_data, batch, iteration)\n",
    "\n",
    "        space.step(1 / 60.0)  # Step the physics simulation\n",
    "        iteration += 1\n",
    "        \n",
    "\n",
    "    pygame.quit()"
   ]
  },
  {
   "cell_type": "code",
   "execution_count": 10,
   "id": "63621089-4851-4594-b5bf-8f0c3fdebf25",
   "metadata": {},
   "outputs": [],
   "source": [
    "for i in range(250):\n",
    "    \n",
    "    animate_tower(i) \n",
    "\n"
   ]
  },
  {
   "cell_type": "code",
   "execution_count": 40,
   "id": "d4e23979-97b7-48a8-be19-a182efbc4147",
   "metadata": {},
   "outputs": [
    {
     "data": {
      "text/plain": [
       "8.333333333333334"
      ]
     },
     "execution_count": 40,
     "metadata": {},
     "output_type": "execute_result"
    }
   ],
   "source": [
    "100 * 5 / (60)"
   ]
  },
  {
   "cell_type": "markdown",
   "id": "f8492156-b915-495c-b35e-187aa6f731b6",
   "metadata": {},
   "source": [
    "###   Take one image from simulation : "
   ]
  },
  {
   "cell_type": "code",
   "execution_count": 13,
   "id": "eaa59433-f4df-4f03-b1bb-e3a0d5b90e61",
   "metadata": {},
   "outputs": [],
   "source": [
    "def animate_tower():\n",
    "    \n",
    "    pygame.init()\n",
    "    \n",
    "    space         = pymunk.Space()\n",
    "    space.gravity = (0, 9.8)\n",
    "\n",
    "    screen        = pygame.display.set_mode((world_width, world_height))\n",
    "    draw_options  = pymunk.pygame_util.DrawOptions(screen)\n",
    "\n",
    "    # Add ground \n",
    "    ground = pymunk.Segment(space.static_body, (0, world_height), (world_width, world_height), 0) \n",
    "    space.add(ground)\n",
    "\n",
    "    # Create blocks for the tower\n",
    "    blocks     = make_tower_world()\n",
    "    block_data = []\n",
    "\n",
    "    for block in blocks:\n",
    "        \n",
    "        mass          = random.randint(1, 10)\n",
    "        moment        = pymunk.moment_for_box(mass, (block[2], block[3]))   # mass, size(width, height)   obj= (x, y, w, h) \n",
    "        body          = pymunk.Body(mass, moment)\n",
    "        body.position = (block[0], block[1]) \n",
    "\n",
    "        shape   = pymunk.Poly.create_box(body, (block[2], block[3]))\n",
    "        \n",
    "        r, g, b = random.randint(0, 255), random.randint(0, 255), random.randint(0, 255)\n",
    "        shape.color = (r , g, b, 1.0)\n",
    "\n",
    "        space.add(body, shape)\n",
    "        # Assign random color for each block\n",
    "        r, g, b = random.randint(0, 255), random.randint(0, 255), random.randint(0, 255)\n",
    "        shape.color = (r , g , b , 1.0)  # Normalize to [0, 1] for pygame\n",
    "        \n",
    "        # Collect block data (x, y, width, height, mass, r, g, b)\n",
    "        block_data.append([block[0], block[1], block[2], block[3], mass, r, g, b, 1])  # Time is set to 1 for now\n",
    "\n",
    "\n",
    "    iteration = 0\n",
    "    while iteration <= 1000:  \n",
    "        screen.fill((255, 255, 255))  # Clear the screen to white\n",
    "        space.debug_draw(draw_options)  # Draw the physics objects\n",
    "        pygame.display.flip()  # Update the display\n",
    "\n",
    "        if iteration % 50 == 0:\n",
    "            # Capture the current screen as a numpy array\n",
    "            img_array = pygame.surfarray.array3d(screen)  # Shape: (width, height, 3)\n",
    "            img_array = np.transpose(img_array, (1, 0, 2))  # Transpose to get the shape (height, width, 3)\n",
    "            \n",
    "            # Normalize the pixel values to [0, 1]\n",
    "            img_array = img_array.astype(np.float32) / 255.0\n",
    "            \n",
    "            # Convert block data to numpy array and then to a torch tensor (5x9)\n",
    "            block_tensor = np.array(block_data, dtype=np.float32)\n",
    "\n",
    "            # Return the image and block data as a tuple\n",
    "            return img_array, block_tensor\n",
    "            break \n",
    "        \n",
    "        space.step(1 / 60.0)  # Step the physics simulation\n",
    "        iteration += 1\n",
    "\n",
    "    pygame.quit()"
   ]
  },
  {
   "cell_type": "code",
   "execution_count": 21,
   "id": "8b4e15ae-ecbf-46a4-8c7f-c8eab2caef4f",
   "metadata": {},
   "outputs": [],
   "source": [
    "img1, csv1   =   animate_tower() \n",
    "img2, csv2   =   animate_tower() "
   ]
  },
  {
   "cell_type": "code",
   "execution_count": 22,
   "id": "117e944c-2c7a-421c-8adc-5fb62e710ba5",
   "metadata": {},
   "outputs": [
    {
     "data": {
      "text/plain": [
       "((512, 512, 3), (5, 9))"
      ]
     },
     "execution_count": 22,
     "metadata": {},
     "output_type": "execute_result"
    }
   ],
   "source": [
    "img1.shape, csv1.shape"
   ]
  },
  {
   "cell_type": "code",
   "execution_count": null,
   "id": "ad6885f4-ad54-4ce9-8b4a-21a3ed7428cb",
   "metadata": {},
   "outputs": [],
   "source": []
  },
  {
   "cell_type": "markdown",
   "id": "5860db19-3f45-4f9b-aa03-b174297e634c",
   "metadata": {},
   "source": [
    "# Recover image from the csv parameters : "
   ]
  },
  {
   "cell_type": "code",
   "execution_count": 108,
   "id": "63ae760e-78d3-464d-bc17-2bbdfc2ec12d",
   "metadata": {},
   "outputs": [],
   "source": [
    "def simulate_with_dynamics(csv_tensor, iterations=500):\n",
    "    import pygame\n",
    "    import pymunk\n",
    "    import pymunk.pygame_util\n",
    "    import numpy as np\n",
    "\n",
    "    pygame.init()\n",
    "\n",
    "    # Initialize Pymunk\n",
    "    space = pymunk.Space()\n",
    "    space.gravity = (0, 9.8)\n",
    "\n",
    "    screen_width, screen_height = 512, 512\n",
    "    screen = pygame.Surface((screen_width, screen_height))\n",
    "    draw_options = pymunk.pygame_util.DrawOptions(screen)\n",
    "\n",
    "    # Add ground\n",
    "    ground = pymunk.Segment(space.static_body, (0, screen_height), (screen_width, screen_height), 0)\n",
    "    space.add(ground)\n",
    "\n",
    "    # Create blocks from CSV tensor\n",
    "    for block_data in csv_tensor:\n",
    "        pos_x, pos_y, width, height, mass, color_r, color_g, color_b, time = block_data\n",
    "\n",
    "        moment = pymunk.moment_for_box(mass, (width, height))\n",
    "        body = pymunk.Body(mass, moment)\n",
    "        body.position = (pos_x, pos_y)\n",
    "\n",
    "        shape = pymunk.Poly.create_box(body, (width, height))\n",
    "        shape.color = (color_r, color_g, color_b, 1.0)  # Normalize RGBA\n",
    "        space.add(body, shape)\n",
    "\n",
    "    iteration = 0\n",
    "    while iteration <= 1000:  \n",
    "        screen.fill((255, 255, 255))  # Clear the screen to white\n",
    "        space.debug_draw(draw_options)  # Draw the physics objects\n",
    "\n",
    "        if (iteration  ==  time * 50):\n",
    "            # Capture the current screen as a numpy array\n",
    "            img_array = pygame.surfarray.array3d(screen)  # Shape: (width, height, 3)\n",
    "            img_array = np.transpose(img_array, (1, 0, 2))  # Transpose to get the shape (height, width, 3)\n",
    "            \n",
    "            # Normalize the pixel values to [0, 1]\n",
    "            img_array = img_array.astype(np.float32) / 255.0\n",
    "            \n",
    "            # Convert block data to numpy array and then to a torch tensor (5x9)\n",
    "            block_tensor = np.array(block_data, dtype=np.float32)\n",
    "\n",
    "            return img_array\n",
    "            break \n",
    "        \n",
    "        space.step(1 / 60.0)  # Step the physics simulation\n",
    "        iteration += 1\n",
    "\n",
    "    pygame.quit()\n"
   ]
  },
  {
   "cell_type": "code",
   "execution_count": 109,
   "id": "7f0c58a6-a023-4be3-9f74-720d6c06d0c8",
   "metadata": {},
   "outputs": [],
   "source": [
    "img_path = \"/home/turgay/falling_objects_dataset/img_files/\"\n",
    "csv_path = \"/home/turgay/falling_objects_dataset/csv_files/\""
   ]
  },
  {
   "cell_type": "code",
   "execution_count": 110,
   "id": "a59d4bf0-2cae-434a-8caf-62a09985eeeb",
   "metadata": {},
   "outputs": [],
   "source": [
    "img_files   =    sorted([f for f in os.listdir(img_path) if f.endswith(('.png', '.jpg', '.jpeg'))])\n",
    "csv_files   =    sorted([f for f in os.listdir(csv_path) if f.endswith('.csv')])"
   ]
  },
  {
   "cell_type": "code",
   "execution_count": 111,
   "id": "b69e3c2d-52b0-4418-abe8-e60c08f35063",
   "metadata": {},
   "outputs": [
    {
     "data": {
      "text/plain": [
       "'0.png'"
      ]
     },
     "execution_count": 111,
     "metadata": {},
     "output_type": "execute_result"
    }
   ],
   "source": [
    "img_files[0]"
   ]
  },
  {
   "cell_type": "code",
   "execution_count": 117,
   "id": "69577357-9947-415d-b4b0-69a163f7b3ba",
   "metadata": {},
   "outputs": [],
   "source": [
    "num   =  40"
   ]
  },
  {
   "cell_type": "code",
   "execution_count": 118,
   "id": "6e9cbb7c-e703-4a89-b5bc-bae47fcbe72c",
   "metadata": {},
   "outputs": [],
   "source": [
    "img         = Image.open(img_path+img_files[num]).convert(\"RGB\")  # Ensure 3-channel RGB\n",
    "img_array   = np.array(img, dtype=np.float32) / 255.0  # Normalize to [0, 1]\n",
    "\n",
    "\n",
    "csv_data    = pd.read_csv(csv_path+csv_files[num]).values  # Load as NumPy array"
   ]
  },
  {
   "cell_type": "code",
   "execution_count": 119,
   "id": "a913e1aa-972c-4ccb-85b1-2338fec37d1f",
   "metadata": {},
   "outputs": [
    {
     "data": {
      "text/plain": [
       "((512, 512, 3), (5, 9))"
      ]
     },
     "execution_count": 119,
     "metadata": {},
     "output_type": "execute_result"
    }
   ],
   "source": [
    "img_array.shape, csv_data.shape"
   ]
  },
  {
   "cell_type": "code",
   "execution_count": 120,
   "id": "e58a601b-367c-4847-9f1c-67de16c5e4e5",
   "metadata": {},
   "outputs": [],
   "source": [
    "rec_img   =   simulate_with_dynamics(csv_data)"
   ]
  },
  {
   "cell_type": "code",
   "execution_count": 121,
   "id": "778707d0-0d06-4b75-82f5-2db2b455e813",
   "metadata": {},
   "outputs": [
    {
     "data": {
      "image/png": "[encoded data removed]",
      "text/plain": [
       "<Figure size 1000x500 with 2 Axes>"
      ]
     },
     "metadata": {},
     "output_type": "display_data"
    }
   ],
   "source": [
    "import matplotlib.pyplot as plt\n",
    "fig, axes = plt.subplots(1, 2, figsize=(10, 5))\n",
    "\n",
    "# Plot the first image in the first subplot\n",
    "axes[0].imshow(rec_img)\n",
    "axes[0].axis('off')  # Hide the axes for a cleaner plot\n",
    "axes[0].set_title(\"Image array\")  # Optional: Title for the first image\n",
    "\n",
    "# Plot the second image in the second subplot\n",
    "axes[1].imshow(img_array)\n",
    "axes[1].axis('off')  # Hide the axes for a cleaner plot\n",
    "axes[1].set_title(\"Image original\")  # Optional: Title for the second image\n",
    "\n",
    "# Show the plot\n",
    "plt.show()"
   ]
  },
  {
   "cell_type": "code",
   "execution_count": 74,
   "id": "0d964bd9-5682-49c7-8d62-50e69de18c30",
   "metadata": {},
   "outputs": [
    {
     "data": {
      "text/plain": [
       "array([[256. , 487. , 100. ,  50. ,   6. ,  42. , 124. , 190. ,   6. ],\n",
       "       [256. , 426.5,  59. ,  71. ,   7. , 131. , 254. , 246. ,   6. ],\n",
       "       [288. , 349.5,  91. ,  83. ,   2. ,  48. , 134. , 200. ,   6. ],\n",
       "       [365. , 270. ,  81. ,  76. ,   7. , 119. , 166. , 179. ,   6. ],\n",
       "       [412. , 186.5,  52. ,  91. ,   3. , 251. ,  37. , 103. ,   6. ]])"
      ]
     },
     "execution_count": 74,
     "metadata": {},
     "output_type": "execute_result"
    }
   ],
   "source": [
    "csv_data"
   ]
  },
  {
   "cell_type": "code",
   "execution_count": 105,
   "id": "366f7599-61ce-423c-839e-c1620cd5020d",
   "metadata": {},
   "outputs": [],
   "source": [
    "def simulate_with_dynamics(csv_tensor, iterations=500):\n",
    "    import pygame\n",
    "    import pymunk\n",
    "    import pymunk.pygame_util\n",
    "    import numpy as np\n",
    "\n",
    "    pygame.init()\n",
    "\n",
    "    # Initialize Pymunk\n",
    "    space = pymunk.Space()\n",
    "    space.gravity = (0, 9.8)\n",
    "\n",
    "    screen_width, screen_height = 512, 512\n",
    "    screen = pygame.Surface((screen_width, screen_height))\n",
    "    draw_options = pymunk.pygame_util.DrawOptions(screen)\n",
    "\n",
    "    # Add ground\n",
    "    ground = pymunk.Segment(space.static_body, (0, screen_height), (screen_width, screen_height), 0)\n",
    "    space.add(ground)\n",
    "\n",
    "    # Create blocks from CSV tensor\n",
    "    for block_data in csv_tensor:\n",
    "        pos_x, pos_y, width, height, mass, color_r, color_g, color_b, time = block_data\n",
    "\n",
    "        moment = pymunk.moment_for_box(mass, (width, height))\n",
    "        body = pymunk.Body(mass, moment)\n",
    "        body.position = (pos_x, pos_y)\n",
    "\n",
    "        shape = pymunk.Poly.create_box(body, (width, height))\n",
    "        shape.color = (color_r, color_g, color_b, 1.0)  # Normalize RGBA\n",
    "        space.add(body, shape)\n",
    "\n",
    "    iteration = 0\n",
    "    while iteration <= 1000:  \n",
    "        screen.fill((255, 255, 255))  # Clear the screen to white\n",
    "        space.debug_draw(draw_options)  # Draw the physics objects\n",
    "\n",
    "        if (iteration  ==  time * 50):\n",
    "            # Capture the current screen as a numpy array\n",
    "            img_array = pygame.surfarray.array3d(screen)  # Shape: (width, height, 3)\n",
    "            img_array = np.transpose(img_array, (1, 0, 2))  # Transpose to get the shape (height, width, 3)\n",
    "            \n",
    "            # Normalize the pixel values to [0, 1]\n",
    "            img_array = img_array.astype(np.float32) / 255.0\n",
    "            \n",
    "            # Convert block data to numpy array and then to a torch tensor (5x9)\n",
    "            block_tensor = np.array(block_data, dtype=np.float32)\n",
    "\n",
    "            return img_array\n",
    "            break \n",
    "        \n",
    "        space.step(1 / 60.0)  # Step the physics simulation\n",
    "        iteration += 1\n",
    "\n",
    "    pygame.quit()\n"
   ]
  },
  {
   "cell_type": "code",
   "execution_count": 106,
   "id": "3baf75da-ca5b-4da1-a00f-8dac483077b7",
   "metadata": {},
   "outputs": [],
   "source": [
    "final_image = simulate_with_dynamics(csv_data)"
   ]
  },
  {
   "cell_type": "code",
   "execution_count": 107,
   "id": "f909a679-72c8-4431-9261-62dc86f18580",
   "metadata": {},
   "outputs": [
    {
     "data": {
      "image/png": "[encoded data removed]",
      "text/plain": [
       "<Figure size 640x480 with 1 Axes>"
      ]
     },
     "metadata": {},
     "output_type": "display_data"
    }
   ],
   "source": [
    "import matplotlib.pyplot as plt\n",
    "plt.imshow(final_image)\n",
    "plt.axis('off')\n",
    "plt.show()"
   ]
  },
  {
   "cell_type": "code",
   "execution_count": null,
   "id": "5201af17-59f9-4cff-99a6-27e23cb2666a",
   "metadata": {},
   "outputs": [],
   "source": []
  }
 ],
 "metadata": {
  "kernelspec": {
   "display_name": "Python 3 (ipykernel)",
   "language": "python",
   "name": "python3"
  },
  "language_info": {
   "codemirror_mode": {
    "name": "ipython",
    "version": 3
   },
   "file_extension": ".py",
   "mimetype": "text/x-python",
   "name": "python",
   "nbconvert_exporter": "python",
   "pygments_lexer": "ipython3",
   "version": "3.9.20"
  }
 },
 "nbformat": 4,
 "nbformat_minor": 5
}
