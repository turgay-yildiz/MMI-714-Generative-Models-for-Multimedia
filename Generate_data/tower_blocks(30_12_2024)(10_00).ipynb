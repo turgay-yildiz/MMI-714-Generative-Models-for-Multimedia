{
 "cells": [
  {
   "cell_type": "code",
   "execution_count": 1,
   "id": "eb06ad19-3f40-4327-8021-e7e6afa8cf29",
   "metadata": {
    "tags": []
   },
   "outputs": [
    {
     "name": "stdout",
     "output_type": "stream",
     "text": [
      "pygame 2.2.0 (SDL 2.26.4, Python 3.9.20)\n",
      "Hello from the pygame community. https://www.pygame.org/contribute.html\n"
     ]
    }
   ],
   "source": [
    "import pymunk\n",
    "import random\n",
    "import pygame\n",
    "import cv2\n",
    "import numpy as np\n",
    "import os\n",
    "import pymunk.pygame_util \n",
    "import time\n",
    "import json\n",
    "import csv\n",
    "from PIL import Image\n",
    "import pandas as pd"
   ]
  },
  {
   "cell_type": "code",
   "execution_count": 2,
   "id": "895d88c0-5310-4d79-8d1c-f0810dd41729",
   "metadata": {},
   "outputs": [],
   "source": [
    "img_dir     = \"/home/turgay/falling_objects_dataset/img_files\"  \n",
    "csv_dir     = \"/home/turgay/falling_objects_dataset/csv_files\""
   ]
  },
  {
   "cell_type": "code",
   "execution_count": 3,
   "id": "7ec5a584-6fd7-4e5d-b30f-1982c53c436e",
   "metadata": {},
   "outputs": [],
   "source": [
    "world_width  = 224.0\n",
    "world_height = 224.0\n",
    "xCenter      = world_width / 2"
   ]
  },
  {
   "cell_type": "code",
   "execution_count": 4,
   "id": "09bd6ed8-d3bd-4731-927a-65acad4bbe45",
   "metadata": {},
   "outputs": [],
   "source": [
    "def dim():\n",
    "    return random.uniform(25, 50)\n",
    "\n",
    "def xpos(prev_block):\n",
    "    prev_w = prev_block[2]  # width of the previous block\n",
    "    prev_x = prev_block[0]  # X position of the previous block\n",
    "    return random.uniform( prev_x - prev_w + 5,  prev_x + prev_w - 5  )\n",
    "\n",
    "def ypos(prev_block, h):\n",
    "    prev_y = prev_block[1]  # Y position of the previous block\n",
    "    prev_h = prev_block[3]  # height of the previous block\n",
    "    return prev_y - ((prev_h/2)   +   (h  /  2)  ) \n",
    "\n",
    "\n",
    "def add_block(prev_block, is_first):\n",
    "    w = dim()\n",
    "    h = dim()\n",
    "    x = xCenter if is_first else xpos(prev_block)\n",
    "    y = ypos(prev_block, h)\n",
    "\n",
    "    return (x, y, w, h)\n",
    "\n",
    "def make_tower_world():\n",
    "    \n",
    "    ground_block = (xCenter, world_height-12.5, 50.0, 25.0)  \n",
    "    \n",
    "    block1 = add_block(ground_block, True)\n",
    "    block2 = add_block(block1, False)\n",
    "    block3 = add_block(block2, False)\n",
    "    block4 = add_block(block3, False)\n",
    "    return [ground_block, block1, block2, block3, block4]"
   ]
  },
  {
   "cell_type": "code",
   "execution_count": null,
   "id": "9a55d5fb-734d-4fbd-a4f5-2de5b8c23174",
   "metadata": {},
   "outputs": [],
   "source": []
  },
  {
   "cell_type": "code",
   "execution_count": 5,
   "id": "9eb18d1e-08e8-4723-a775-2609e84e30c3",
   "metadata": {
    "tags": []
   },
   "outputs": [],
   "source": [
    "def save_img(batch, iteration, screen):\n",
    "    \n",
    "#---------------------------------------------------------------------------------------------\n",
    "    pygame.image.save(screen, f\"{img_dir}/{np.int64(iteration / 50) + (batch * 20) }.png\")\n",
    "#---------------------------------------------------------------------------------------------            "
   ]
  },
  {
   "cell_type": "code",
   "execution_count": 6,
   "id": "3c2ae82d-6531-4eb1-bbbe-f0623faae17b",
   "metadata": {},
   "outputs": [],
   "source": [
    "def save_csv(block_data, batch, iteration):\n",
    "    \n",
    "#---------------------------------------------------------------------------------------------    \n",
    "    block_data2 = []\n",
    "    \n",
    "    blocks_for_csv        =   [data[\"block\"] for data in block_data[:]]\n",
    "    masses_for_csv        =   [data[\"mass\"] for data in block_data[:]]\n",
    "    color_r_for_csv       =   [data[\"color_r\"] for data in block_data[:]]   \n",
    "    color_g_for_csv       =   [data[\"color_g\"] for data in block_data[:]]\n",
    "    color_b_for_csv       =   [data[\"color_b\"] for data in block_data[:]]\n",
    "        \n",
    "    for block, mass, color_r, color_g, color_b in zip(blocks_for_csv, masses_for_csv, color_r_for_csv, color_g_for_csv, color_b_for_csv):\n",
    "        data = {\n",
    "            \"position_x\": block[0],\n",
    "            \"position_y\": block[1],\n",
    "            \"width\": block[2],\n",
    "            \"height\": block[3],\n",
    "            \"mass\": mass, \n",
    "            \"color_r\": color_r,\n",
    "            \"color_g\": color_g,\n",
    "            \"color_b\": color_b,\n",
    "            \"time\"      : iteration / 50\n",
    "        }\n",
    "        block_data2.append(data)\n",
    "\n",
    "#---------------------------------------------------------------------------------------------    \n",
    "    \n",
    "    csv_filename = f\"{csv_dir}/{np.int64(iteration / 50) + (batch * 20)}.csv\"\n",
    "    \n",
    "    # Check if CSV file exists to append or write headers\n",
    "    file_exists = os.path.exists(csv_filename)\n",
    "    with open(csv_filename, 'a', newline='') as csvfile:\n",
    "        fieldnames = [\"position_x\", \"position_y\", \"width\", \"height\", \"mass\", \"color_r\", \"color_g\", \"color_b\", \"time\"]\n",
    "        writer = csv.DictWriter(csvfile, fieldnames=fieldnames)\n",
    "        \n",
    "        # Write headers only if file doesn't exist\n",
    "        if not file_exists:\n",
    "            writer.writeheader()\n",
    "        \n",
    "        # Write the data of the blocks to the CSV file\n",
    "        writer.writerows(block_data2)\n"
   ]
  },
  {
   "cell_type": "code",
   "execution_count": 125,
   "id": "b62d2608-ea81-40ac-923d-682fc6af9dcb",
   "metadata": {
    "jupyter": {
     "source_hidden": true
    },
    "tags": []
   },
   "outputs": [],
   "source": [
    "def start_video(batch, fps=60):\n",
    "\n",
    "    video_path   =   f\"{video_dir}/{np.int64(batch) }.avi\"\n",
    "    \n",
    "    video_writer = cv2.VideoWriter(\n",
    "                                    video_path,\n",
    "                                    cv2.VideoWriter_fourcc(*'XVID'),\n",
    "                                    fps,\n",
    "                                    (world_width, world_height)\n",
    "                                    )\n",
    "    return video_writer"
   ]
  },
  {
   "cell_type": "code",
   "execution_count": 126,
   "id": "a82f840c-3491-40f2-87fc-75c1f8da0a50",
   "metadata": {
    "jupyter": {
     "source_hidden": true
    },
    "tags": []
   },
   "outputs": [],
   "source": [
    "def record_frames(video_writer, screen):\n",
    "\n",
    "    frame = pygame.surfarray.array3d(screen)  # Get frame data from Pygame\n",
    "    frame = np.transpose(frame, (1, 0, 2))    # Transpose to match OpenCV format\n",
    "    frame = cv2.cvtColor(frame, cv2.COLOR_RGB2BGR)  # Convert to OpenCV color format\n",
    "    video_writer.write(frame)  # Write frame to video file"
   ]
  },
  {
   "cell_type": "code",
   "execution_count": 127,
   "id": "d3f03744-1126-43ee-b9cc-5b3f2a778b43",
   "metadata": {
    "jupyter": {
     "source_hidden": true
    },
    "tags": []
   },
   "outputs": [],
   "source": [
    "def stop_video(video_writer):\n",
    "    video_writer.release()"
   ]
  },
  {
   "cell_type": "code",
   "execution_count": 15,
   "id": "2eccee93-d2d2-4fba-86f5-f6aa3a0796e5",
   "metadata": {
    "tags": []
   },
   "outputs": [],
   "source": [
    "def animate_tower(batch):\n",
    "    \n",
    "    pygame.init()\n",
    "    \n",
    "    space         = pymunk.Space()\n",
    "    space.gravity = (0, 9.8)\n",
    "\n",
    "    screen        = pygame.display.set_mode((world_width, world_height))\n",
    "    draw_options  = pymunk.pygame_util.DrawOptions(screen)\n",
    "\n",
    "    # Add ground \n",
    "    ground = pymunk.Segment(space.static_body, (0, world_height), (world_width, world_height), 0) \n",
    "    space.add(ground)\n",
    "\n",
    "    # Create blocks for the tower\n",
    "    blocks     = make_tower_world()\n",
    "    block_data = [] \n",
    "\n",
    "    for block in blocks:\n",
    "        \n",
    "        mass          = random.uniform(1, 10)\n",
    "        moment        = pymunk.moment_for_box(mass, (block[2], block[3]))   # mass, size(width, height)   obj= (x, y, w, h) \n",
    "        body          = pymunk.Body(mass, moment)\n",
    "        body.position = (block[0], block[1]) \n",
    "\n",
    "        shape   = pymunk.Poly.create_box(body, (block[2], block[3]))\n",
    "        \n",
    "        r = random.choice([0, 250])  \n",
    "        g = random.choice([0, 250])  \n",
    "        b = random.choice([0, 250]) \n",
    "                    \n",
    "        shape.color = (r , g,  b, 1.0)  \n",
    "\n",
    "        space.add(body, shape)\n",
    "        block_data.append({\"mass\": mass, \"block\": block, \"color_r\": r, \"color_g\": g, \"color_b\": b })\n",
    "\n",
    "    \n",
    "    iteration = 0\n",
    "    while iteration <= 999:  \n",
    "                   \n",
    "        screen.fill((255, 255, 255))  \n",
    "        space.debug_draw(draw_options)\n",
    "        pygame.display.flip()\n",
    "\n",
    "        if iteration % 50  == 0:\n",
    "                \n",
    "            save_img(batch, iteration, screen)\n",
    "            save_csv(block_data, batch, iteration)\n",
    "\n",
    "        space.step(1 / 60.0)  # Step the physics simulation\n",
    "        iteration += 1\n",
    "        \n",
    "\n",
    "    pygame.quit()"
   ]
  },
  {
   "cell_type": "code",
   "execution_count": 8,
   "id": "63621089-4851-4594-b5bf-8f0c3fdebf25",
   "metadata": {},
   "outputs": [],
   "source": [
    "for i in range(10000):\n",
    "    \n",
    "    animate_tower(i) \n",
    "\n"
   ]
  },
  {
   "cell_type": "code",
   "execution_count": 40,
   "id": "d4e23979-97b7-48a8-be19-a182efbc4147",
   "metadata": {},
   "outputs": [
    {
     "data": {
      "text/plain": [
       "8.333333333333334"
      ]
     },
     "execution_count": 40,
     "metadata": {},
     "output_type": "execute_result"
    }
   ],
   "source": [
    "100 * 5 / (60)"
   ]
  },
  {
   "cell_type": "markdown",
   "id": "f8492156-b915-495c-b35e-187aa6f731b6",
   "metadata": {},
   "source": [
    "###   Take one image from simulation : "
   ]
  },
  {
   "cell_type": "code",
   "execution_count": 9,
   "id": "eaa59433-f4df-4f03-b1bb-e3a0d5b90e61",
   "metadata": {},
   "outputs": [],
   "source": [
    "def animate_tower():\n",
    "    \n",
    "    pygame.init()\n",
    "    \n",
    "    space         = pymunk.Space()\n",
    "    space.gravity = (0, 9.8)\n",
    "\n",
    "    screen        = pygame.display.set_mode((world_width, world_height))\n",
    "    draw_options  = pymunk.pygame_util.DrawOptions(screen)\n",
    "\n",
    "    # Add ground \n",
    "    ground = pymunk.Segment(space.static_body, (0, world_height), (world_width, world_height), 0) \n",
    "    space.add(ground)\n",
    "\n",
    "    # Create blocks for the tower\n",
    "    blocks     = make_tower_world()\n",
    "    block_data = []\n",
    "\n",
    "    for block in blocks:\n",
    "        \n",
    "        mass          = random.randint(1, 10)\n",
    "        moment        = pymunk.moment_for_box(mass, (block[2], block[3]))   # mass, size(width, height)   obj= (x, y, w, h) \n",
    "        body          = pymunk.Body(mass, moment)\n",
    "        body.position = (block[0], block[1]) \n",
    "\n",
    "        shape   = pymunk.Poly.create_box(body, (block[2], block[3]))\n",
    "        \n",
    "\n",
    "        space.add(body, shape)\n",
    "        # Assign random color for each block\n",
    "        r, g, b = random.uniform(0, 255), random.uniform(0, 255), random.uniform(0, 255)\n",
    "        shape.color = (r , g , b , 1.0)  # Normalize to [0, 1] for pygame\n",
    "        \n",
    "        # Collect block data (x, y, width, height, mass, r, g, b)\n",
    "        block_data.append([block[0], block[1], block[2], block[3], mass, r, g, b, 1])  # Time is set to 1 for now\n",
    "\n",
    "\n",
    "    iteration = 0\n",
    "    while iteration <= 1000:  \n",
    "        screen.fill((255, 255, 255))  # Clear the screen to white\n",
    "        space.debug_draw(draw_options)  # Draw the physics objects\n",
    "        pygame.display.flip()  # Update the display\n",
    "\n",
    "        if iteration % 50 == 0:\n",
    "            # Capture the current screen as a numpy array\n",
    "            img_array = pygame.surfarray.array3d(screen)  # Shape: (width, height, 3)\n",
    "            img_array = np.transpose(img_array, (1, 0, 2))  # Transpose to get the shape (height, width, 3)\n",
    "            \n",
    "            # Normalize the pixel values to [0, 1]\n",
    "            img_array = img_array.astype(np.float32) / 255.0\n",
    "            \n",
    "            # Convert block data to numpy array and then to a torch tensor (5x9)\n",
    "            block_tensor = np.array(block_data, dtype=np.float32)\n",
    "\n",
    "            # Return the image and block data as a tuple\n",
    "            return img_array, block_tensor\n",
    "            break \n",
    "        \n",
    "        space.step(1 / 60.0)  # Step the physics simulation\n",
    "        iteration += 1\n",
    "\n",
    "    pygame.quit()"
   ]
  },
  {
   "cell_type": "code",
   "execution_count": 10,
   "id": "8b4e15ae-ecbf-46a4-8c7f-c8eab2caef4f",
   "metadata": {},
   "outputs": [],
   "source": [
    "img1, csv1   =   animate_tower() \n",
    "img2, csv2   =   animate_tower() "
   ]
  },
  {
   "cell_type": "code",
   "execution_count": 11,
   "id": "117e944c-2c7a-421c-8adc-5fb62e710ba5",
   "metadata": {},
   "outputs": [
    {
     "data": {
      "text/plain": [
       "((512, 512, 3), (5, 9))"
      ]
     },
     "execution_count": 11,
     "metadata": {},
     "output_type": "execute_result"
    }
   ],
   "source": [
    "img1.shape, csv1.shape"
   ]
  },
  {
   "cell_type": "code",
   "execution_count": 12,
   "id": "ad6885f4-ad54-4ce9-8b4a-21a3ed7428cb",
   "metadata": {},
   "outputs": [
    {
     "data": {
      "text/plain": [
       "array([[256.      , 487.      , 100.      ,  50.      ,   6.      ,\n",
       "          4.88413 , 105.10313 ,  79.89275 ,   1.      ],\n",
       "       [256.      , 414.71515 ,  54.697342,  94.56971 ,  10.      ,\n",
       "        148.59337 , 101.32673 , 212.60829 ,   1.      ],\n",
       "       [280.69882 , 330.97855 ,  51.552147,  72.9035  ,   5.      ,\n",
       "        235.20706 , 137.08025 , 246.60164 ,   1.      ],\n",
       "       [269.1042  , 256.27405 ,  52.383003,  76.505455,   9.      ,\n",
       "         43.78828 , 150.71054 , 153.71968 ,   1.      ],\n",
       "       [272.73956 , 179.50304 ,  86.202835,  77.0366  ,   1.      ,\n",
       "        223.37631 , 108.93578 ,  51.506134,   1.      ]], dtype=float32)"
      ]
     },
     "execution_count": 12,
     "metadata": {},
     "output_type": "execute_result"
    }
   ],
   "source": [
    "csv1"
   ]
  },
  {
   "cell_type": "markdown",
   "id": "5860db19-3f45-4f9b-aa03-b174297e634c",
   "metadata": {},
   "source": [
    "# Recover image from the csv parameters : "
   ]
  },
  {
   "cell_type": "code",
   "execution_count": 14,
   "id": "63ae760e-78d3-464d-bc17-2bbdfc2ec12d",
   "metadata": {},
   "outputs": [],
   "source": [
    "def simulate_with_dynamics(csv_tensor, iterations=1000):\n",
    "    import pygame\n",
    "    import pymunk\n",
    "    import pymunk.pygame_util\n",
    "    import numpy as np\n",
    "\n",
    "    pygame.init()\n",
    "\n",
    "    # Initialize Pymunk\n",
    "    space = pymunk.Space()\n",
    "    space.gravity = (0, 9.8)\n",
    "\n",
    "    screen_width, screen_height = 512, 512\n",
    "    screen = pygame.Surface((screen_width, screen_height))\n",
    "    draw_options = pymunk.pygame_util.DrawOptions(screen)\n",
    "\n",
    "    # Add ground\n",
    "    ground = pymunk.Segment(space.static_body, (0, screen_height), (screen_width, screen_height), 0)\n",
    "    space.add(ground)\n",
    "\n",
    "    # Create blocks from CSV tensor\n",
    "    for block_data in csv_tensor:\n",
    "        pos_x, pos_y, width, height, mass, color_r, color_g, color_b, time = block_data\n",
    "\n",
    "        moment = pymunk.moment_for_box(mass, (width, height))\n",
    "        body = pymunk.Body(mass, moment)\n",
    "        body.position = (pos_x, pos_y)\n",
    "\n",
    "        shape = pymunk.Poly.create_box(body, (width, height))\n",
    "        shape.color = (color_r, color_g, color_b, 1.0)  # Normalize RGBA\n",
    "        space.add(body, shape)\n",
    "\n",
    "    iteration = 0\n",
    "    while iteration <= 1000:  \n",
    "        screen.fill((255, 255, 255))  # Clear the screen to white\n",
    "        space.debug_draw(draw_options)  # Draw the physics objects\n",
    "\n",
    "        if (iteration  ==  time * 50):\n",
    "            # Capture the current screen as a numpy array\n",
    "            img_array = pygame.surfarray.array3d(screen)  # Shape: (width, height, 3)\n",
    "            img_array = np.transpose(img_array, (1, 0, 2))  # Transpose to get the shape (height, width, 3)\n",
    "            \n",
    "            # Normalize the pixel values to [0, 1]\n",
    "            img_array = img_array.astype(np.float32) / 255.0\n",
    "\n",
    "            return img_array\n",
    "            break \n",
    "        \n",
    "        space.step(1 / 60.0)  # Step the physics simulation\n",
    "        iteration += 1\n",
    "\n",
    "    pygame.quit()\n"
   ]
  },
  {
   "cell_type": "code",
   "execution_count": 109,
   "id": "7f0c58a6-a023-4be3-9f74-720d6c06d0c8",
   "metadata": {},
   "outputs": [],
   "source": [
    "img_path = \"/home/turgay/falling_objects_dataset/img_files/\"\n",
    "csv_path = \"/home/turgay/falling_objects_dataset/csv_files/\""
   ]
  },
  {
   "cell_type": "code",
   "execution_count": 110,
   "id": "a59d4bf0-2cae-434a-8caf-62a09985eeeb",
   "metadata": {},
   "outputs": [],
   "source": [
    "img_files   =    sorted([f for f in os.listdir(img_path) if f.endswith(('.png', '.jpg', '.jpeg'))])\n",
    "csv_files   =    sorted([f for f in os.listdir(csv_path) if f.endswith('.csv')])"
   ]
  },
  {
   "cell_type": "code",
   "execution_count": 111,
   "id": "b69e3c2d-52b0-4418-abe8-e60c08f35063",
   "metadata": {},
   "outputs": [
    {
     "data": {
      "text/plain": [
       "'0.png'"
      ]
     },
     "execution_count": 111,
     "metadata": {},
     "output_type": "execute_result"
    }
   ],
   "source": [
    "img_files[0]"
   ]
  },
  {
   "cell_type": "code",
   "execution_count": 117,
   "id": "69577357-9947-415d-b4b0-69a163f7b3ba",
   "metadata": {},
   "outputs": [],
   "source": [
    "num   =  40"
   ]
  },
  {
   "cell_type": "code",
   "execution_count": 118,
   "id": "6e9cbb7c-e703-4a89-b5bc-bae47fcbe72c",
   "metadata": {},
   "outputs": [],
   "source": [
    "img         = Image.open(img_path+img_files[num]).convert(\"RGB\")  # Ensure 3-channel RGB\n",
    "img_array   = np.array(img, dtype=np.float32) / 255.0  # Normalize to [0, 1]\n",
    "\n",
    "\n",
    "csv_data    = pd.read_csv(csv_path+csv_files[num]).values  # Load as NumPy array"
   ]
  },
  {
   "cell_type": "code",
   "execution_count": 119,
   "id": "a913e1aa-972c-4ccb-85b1-2338fec37d1f",
   "metadata": {},
   "outputs": [
    {
     "data": {
      "text/plain": [
       "((512, 512, 3), (5, 9))"
      ]
     },
     "execution_count": 119,
     "metadata": {},
     "output_type": "execute_result"
    }
   ],
   "source": [
    "img_array.shape, csv_data.shape"
   ]
  },
  {
   "cell_type": "code",
   "execution_count": 25,
   "id": "3a667f30-3b07-4265-8c1c-0886a819d83f",
   "metadata": {},
   "outputs": [],
   "source": [
    "csv3   =  np.array([[0.3107, 0.4556, 0.4730, 0.8434, 0.3138, 0.6682, 0.9455, 0.7667, 0.8949],\n",
    "        [0.6061, 0.7066, 0.7083, 0.9563, 0.9808, 1.4506, 1.2214, 0.5285, 0.7414],\n",
    "        [0.4979, 0.8268, 1.4698, 0.4862, 0.5433, 1.3203, 0.8285, 0.3876, 0.6256],\n",
    "        [0.9563, 0.7660, 0.8211, 0.5290, 0.4171, 0.6010, 0.5575, 0.2970, 0.5555],\n",
    "        [0.8942, 0.6090, 0.6308, 0.8067, 0.9397, 0.5962, 0.3963, 0.4744, 0.6974]]) * 100"
   ]
  },
  {
   "cell_type": "code",
   "execution_count": 26,
   "id": "8f75aabf-8268-4fdd-9dc6-a880062435df",
   "metadata": {},
   "outputs": [
    {
     "data": {
      "text/plain": [
       "array([[ 31.07,  45.56,  47.3 ,  84.34,  31.38,  66.82,  94.55,  76.67,\n",
       "         89.49],\n",
       "       [ 60.61,  70.66,  70.83,  95.63,  98.08, 145.06, 122.14,  52.85,\n",
       "         74.14],\n",
       "       [ 49.79,  82.68, 146.98,  48.62,  54.33, 132.03,  82.85,  38.76,\n",
       "         62.56],\n",
       "       [ 95.63,  76.6 ,  82.11,  52.9 ,  41.71,  60.1 ,  55.75,  29.7 ,\n",
       "         55.55],\n",
       "       [ 89.42,  60.9 ,  63.08,  80.67,  93.97,  59.62,  39.63,  47.44,\n",
       "         69.74]])"
      ]
     },
     "execution_count": 26,
     "metadata": {},
     "output_type": "execute_result"
    }
   ],
   "source": [
    "csv3"
   ]
  },
  {
   "cell_type": "code",
   "execution_count": 27,
   "id": "e58a601b-367c-4847-9f1c-67de16c5e4e5",
   "metadata": {},
   "outputs": [],
   "source": [
    "rec_img   =   simulate_with_dynamics(csv3)"
   ]
  },
  {
   "cell_type": "code",
   "execution_count": 28,
   "id": "7b8017f3-6b8e-402c-ac08-7644fec917cd",
   "metadata": {},
   "outputs": [
    {
     "ename": "AttributeError",
     "evalue": "'NoneType' object has no attribute 'shape'",
     "output_type": "error",
     "traceback": [
      "\u001b[0;31m---------------------------------------------------------------------------\u001b[0m",
      "\u001b[0;31mAttributeError\u001b[0m                            Traceback (most recent call last)",
      "Cell \u001b[0;32mIn[28], line 1\u001b[0m\n\u001b[0;32m----> 1\u001b[0m \u001b[43mrec_img\u001b[49m\u001b[38;5;241;43m.\u001b[39;49m\u001b[43mshape\u001b[49m\n",
      "\u001b[0;31mAttributeError\u001b[0m: 'NoneType' object has no attribute 'shape'"
     ]
    }
   ],
   "source": [
    "rec_img.shape"
   ]
  },
  {
   "cell_type": "code",
   "execution_count": 19,
   "id": "778707d0-0d06-4b75-82f5-2db2b455e813",
   "metadata": {},
   "outputs": [
    {
     "ename": "TypeError",
     "evalue": "Image data of dtype object cannot be converted to float",
     "output_type": "error",
     "traceback": [
      "\u001b[0;31m---------------------------------------------------------------------------\u001b[0m",
      "\u001b[0;31mTypeError\u001b[0m                                 Traceback (most recent call last)",
      "Cell \u001b[0;32mIn[19], line 5\u001b[0m\n\u001b[1;32m      2\u001b[0m fig, axes \u001b[38;5;241m=\u001b[39m plt\u001b[38;5;241m.\u001b[39msubplots(\u001b[38;5;241m1\u001b[39m, \u001b[38;5;241m2\u001b[39m, figsize\u001b[38;5;241m=\u001b[39m(\u001b[38;5;241m10\u001b[39m, \u001b[38;5;241m5\u001b[39m))\n\u001b[1;32m      4\u001b[0m \u001b[38;5;66m# Plot the first image in the first subplot\u001b[39m\n\u001b[0;32m----> 5\u001b[0m \u001b[43maxes\u001b[49m\u001b[43m[\u001b[49m\u001b[38;5;241;43m0\u001b[39;49m\u001b[43m]\u001b[49m\u001b[38;5;241;43m.\u001b[39;49m\u001b[43mimshow\u001b[49m\u001b[43m(\u001b[49m\u001b[43mrec_img\u001b[49m\u001b[43m)\u001b[49m\n\u001b[1;32m      6\u001b[0m axes[\u001b[38;5;241m0\u001b[39m]\u001b[38;5;241m.\u001b[39maxis(\u001b[38;5;124m'\u001b[39m\u001b[38;5;124moff\u001b[39m\u001b[38;5;124m'\u001b[39m)  \u001b[38;5;66m# Hide the axes for a cleaner plot\u001b[39m\n\u001b[1;32m      7\u001b[0m axes[\u001b[38;5;241m0\u001b[39m]\u001b[38;5;241m.\u001b[39mset_title(\u001b[38;5;124m\"\u001b[39m\u001b[38;5;124mImage array\u001b[39m\u001b[38;5;124m\"\u001b[39m)  \u001b[38;5;66m# Optional: Title for the first image\u001b[39m\n",
      "File \u001b[0;32m~/anaconda3/envs/gen_714_data/lib/python3.9/site-packages/matplotlib/__init__.py:1473\u001b[0m, in \u001b[0;36m_preprocess_data.<locals>.inner\u001b[0;34m(ax, data, *args, **kwargs)\u001b[0m\n\u001b[1;32m   1470\u001b[0m \u001b[38;5;129m@functools\u001b[39m\u001b[38;5;241m.\u001b[39mwraps(func)\n\u001b[1;32m   1471\u001b[0m \u001b[38;5;28;01mdef\u001b[39;00m \u001b[38;5;21minner\u001b[39m(ax, \u001b[38;5;241m*\u001b[39margs, data\u001b[38;5;241m=\u001b[39m\u001b[38;5;28;01mNone\u001b[39;00m, \u001b[38;5;241m*\u001b[39m\u001b[38;5;241m*\u001b[39mkwargs):\n\u001b[1;32m   1472\u001b[0m     \u001b[38;5;28;01mif\u001b[39;00m data \u001b[38;5;129;01mis\u001b[39;00m \u001b[38;5;28;01mNone\u001b[39;00m:\n\u001b[0;32m-> 1473\u001b[0m         \u001b[38;5;28;01mreturn\u001b[39;00m \u001b[43mfunc\u001b[49m\u001b[43m(\u001b[49m\n\u001b[1;32m   1474\u001b[0m \u001b[43m            \u001b[49m\u001b[43max\u001b[49m\u001b[43m,\u001b[49m\n\u001b[1;32m   1475\u001b[0m \u001b[43m            \u001b[49m\u001b[38;5;241;43m*\u001b[39;49m\u001b[38;5;28;43mmap\u001b[39;49m\u001b[43m(\u001b[49m\u001b[43msanitize_sequence\u001b[49m\u001b[43m,\u001b[49m\u001b[43m \u001b[49m\u001b[43margs\u001b[49m\u001b[43m)\u001b[49m\u001b[43m,\u001b[49m\n\u001b[1;32m   1476\u001b[0m \u001b[43m            \u001b[49m\u001b[38;5;241;43m*\u001b[39;49m\u001b[38;5;241;43m*\u001b[39;49m\u001b[43m{\u001b[49m\u001b[43mk\u001b[49m\u001b[43m:\u001b[49m\u001b[43m \u001b[49m\u001b[43msanitize_sequence\u001b[49m\u001b[43m(\u001b[49m\u001b[43mv\u001b[49m\u001b[43m)\u001b[49m\u001b[43m \u001b[49m\u001b[38;5;28;43;01mfor\u001b[39;49;00m\u001b[43m \u001b[49m\u001b[43mk\u001b[49m\u001b[43m,\u001b[49m\u001b[43m \u001b[49m\u001b[43mv\u001b[49m\u001b[43m \u001b[49m\u001b[38;5;129;43;01min\u001b[39;49;00m\u001b[43m \u001b[49m\u001b[43mkwargs\u001b[49m\u001b[38;5;241;43m.\u001b[39;49m\u001b[43mitems\u001b[49m\u001b[43m(\u001b[49m\u001b[43m)\u001b[49m\u001b[43m}\u001b[49m\u001b[43m)\u001b[49m\n\u001b[1;32m   1478\u001b[0m     bound \u001b[38;5;241m=\u001b[39m new_sig\u001b[38;5;241m.\u001b[39mbind(ax, \u001b[38;5;241m*\u001b[39margs, \u001b[38;5;241m*\u001b[39m\u001b[38;5;241m*\u001b[39mkwargs)\n\u001b[1;32m   1479\u001b[0m     auto_label \u001b[38;5;241m=\u001b[39m (bound\u001b[38;5;241m.\u001b[39marguments\u001b[38;5;241m.\u001b[39mget(label_namer)\n\u001b[1;32m   1480\u001b[0m                   \u001b[38;5;129;01mor\u001b[39;00m bound\u001b[38;5;241m.\u001b[39mkwargs\u001b[38;5;241m.\u001b[39mget(label_namer))\n",
      "File \u001b[0;32m~/anaconda3/envs/gen_714_data/lib/python3.9/site-packages/matplotlib/axes/_axes.py:5895\u001b[0m, in \u001b[0;36mAxes.imshow\u001b[0;34m(self, X, cmap, norm, aspect, interpolation, alpha, vmin, vmax, origin, extent, interpolation_stage, filternorm, filterrad, resample, url, **kwargs)\u001b[0m\n\u001b[1;32m   5892\u001b[0m \u001b[38;5;28;01mif\u001b[39;00m aspect \u001b[38;5;129;01mis\u001b[39;00m \u001b[38;5;129;01mnot\u001b[39;00m \u001b[38;5;28;01mNone\u001b[39;00m:\n\u001b[1;32m   5893\u001b[0m     \u001b[38;5;28mself\u001b[39m\u001b[38;5;241m.\u001b[39mset_aspect(aspect)\n\u001b[0;32m-> 5895\u001b[0m \u001b[43mim\u001b[49m\u001b[38;5;241;43m.\u001b[39;49m\u001b[43mset_data\u001b[49m\u001b[43m(\u001b[49m\u001b[43mX\u001b[49m\u001b[43m)\u001b[49m\n\u001b[1;32m   5896\u001b[0m im\u001b[38;5;241m.\u001b[39mset_alpha(alpha)\n\u001b[1;32m   5897\u001b[0m \u001b[38;5;28;01mif\u001b[39;00m im\u001b[38;5;241m.\u001b[39mget_clip_path() \u001b[38;5;129;01mis\u001b[39;00m \u001b[38;5;28;01mNone\u001b[39;00m:\n\u001b[1;32m   5898\u001b[0m     \u001b[38;5;66m# image does not already have clipping set, clip to Axes patch\u001b[39m\n",
      "File \u001b[0;32m~/anaconda3/envs/gen_714_data/lib/python3.9/site-packages/matplotlib/image.py:729\u001b[0m, in \u001b[0;36m_ImageBase.set_data\u001b[0;34m(self, A)\u001b[0m\n\u001b[1;32m    727\u001b[0m \u001b[38;5;28;01mif\u001b[39;00m \u001b[38;5;28misinstance\u001b[39m(A, PIL\u001b[38;5;241m.\u001b[39mImage\u001b[38;5;241m.\u001b[39mImage):\n\u001b[1;32m    728\u001b[0m     A \u001b[38;5;241m=\u001b[39m pil_to_array(A)  \u001b[38;5;66m# Needed e.g. to apply png palette.\u001b[39m\n\u001b[0;32m--> 729\u001b[0m \u001b[38;5;28mself\u001b[39m\u001b[38;5;241m.\u001b[39m_A \u001b[38;5;241m=\u001b[39m \u001b[38;5;28;43mself\u001b[39;49m\u001b[38;5;241;43m.\u001b[39;49m\u001b[43m_normalize_image_array\u001b[49m\u001b[43m(\u001b[49m\u001b[43mA\u001b[49m\u001b[43m)\u001b[49m\n\u001b[1;32m    730\u001b[0m \u001b[38;5;28mself\u001b[39m\u001b[38;5;241m.\u001b[39m_imcache \u001b[38;5;241m=\u001b[39m \u001b[38;5;28;01mNone\u001b[39;00m\n\u001b[1;32m    731\u001b[0m \u001b[38;5;28mself\u001b[39m\u001b[38;5;241m.\u001b[39mstale \u001b[38;5;241m=\u001b[39m \u001b[38;5;28;01mTrue\u001b[39;00m\n",
      "File \u001b[0;32m~/anaconda3/envs/gen_714_data/lib/python3.9/site-packages/matplotlib/image.py:692\u001b[0m, in \u001b[0;36m_ImageBase._normalize_image_array\u001b[0;34m(A)\u001b[0m\n\u001b[1;32m    690\u001b[0m A \u001b[38;5;241m=\u001b[39m cbook\u001b[38;5;241m.\u001b[39msafe_masked_invalid(A, copy\u001b[38;5;241m=\u001b[39m\u001b[38;5;28;01mTrue\u001b[39;00m)\n\u001b[1;32m    691\u001b[0m \u001b[38;5;28;01mif\u001b[39;00m A\u001b[38;5;241m.\u001b[39mdtype \u001b[38;5;241m!=\u001b[39m np\u001b[38;5;241m.\u001b[39muint8 \u001b[38;5;129;01mand\u001b[39;00m \u001b[38;5;129;01mnot\u001b[39;00m np\u001b[38;5;241m.\u001b[39mcan_cast(A\u001b[38;5;241m.\u001b[39mdtype, \u001b[38;5;28mfloat\u001b[39m, \u001b[38;5;124m\"\u001b[39m\u001b[38;5;124msame_kind\u001b[39m\u001b[38;5;124m\"\u001b[39m):\n\u001b[0;32m--> 692\u001b[0m     \u001b[38;5;28;01mraise\u001b[39;00m \u001b[38;5;167;01mTypeError\u001b[39;00m(\u001b[38;5;124mf\u001b[39m\u001b[38;5;124m\"\u001b[39m\u001b[38;5;124mImage data of dtype \u001b[39m\u001b[38;5;132;01m{A.dtype}\u001b[39;00m\u001b[38;5;124m cannot be \u001b[39m\u001b[38;5;124m\"\u001b[39m\n\u001b[1;32m    693\u001b[0m                     \u001b[38;5;124mf\u001b[39m\u001b[38;5;124m\"\u001b[39m\u001b[38;5;124mconverted to float\u001b[39m\u001b[38;5;124m\"\u001b[39m)\n\u001b[1;32m    694\u001b[0m \u001b[38;5;28;01mif\u001b[39;00m A\u001b[38;5;241m.\u001b[39mndim \u001b[38;5;241m==\u001b[39m \u001b[38;5;241m3\u001b[39m \u001b[38;5;129;01mand\u001b[39;00m A\u001b[38;5;241m.\u001b[39mshape[\u001b[38;5;241m-\u001b[39m\u001b[38;5;241m1\u001b[39m] \u001b[38;5;241m==\u001b[39m \u001b[38;5;241m1\u001b[39m:\n\u001b[1;32m    695\u001b[0m     A \u001b[38;5;241m=\u001b[39m A\u001b[38;5;241m.\u001b[39msqueeze(\u001b[38;5;241m-\u001b[39m\u001b[38;5;241m1\u001b[39m)  \u001b[38;5;66m# If just (M, N, 1), assume scalar and apply colormap.\u001b[39m\n",
      "\u001b[0;31mTypeError\u001b[0m: Image data of dtype object cannot be converted to float"
     ]
    },
    {
     "data": {
      "image/png": "[encoded data removed]",
      "text/plain": [
       "<Figure size 1000x500 with 2 Axes>"
      ]
     },
     "metadata": {},
     "output_type": "display_data"
    }
   ],
   "source": [
    "import matplotlib.pyplot as plt\n",
    "fig, axes = plt.subplots(1, 2, figsize=(10, 5))\n",
    "\n",
    "# Plot the first image in the first subplot\n",
    "axes[0].imshow(rec_img)\n",
    "axes[0].axis('off')  # Hide the axes for a cleaner plot\n",
    "axes[0].set_title(\"Image array\")  # Optional: Title for the first image\n",
    "\n",
    "# Plot the second image in the second subplot\n",
    "axes[1].imshow(img1)\n",
    "axes[1].axis('off')  # Hide the axes for a cleaner plot\n",
    "axes[1].set_title(\"Image original\")  # Optional: Title for the second image\n",
    "\n",
    "# Show the plot\n",
    "plt.show()"
   ]
  },
  {
   "cell_type": "code",
   "execution_count": 74,
   "id": "0d964bd9-5682-49c7-8d62-50e69de18c30",
   "metadata": {},
   "outputs": [
    {
     "data": {
      "text/plain": [
       "array([[256. , 487. , 100. ,  50. ,   6. ,  42. , 124. , 190. ,   6. ],\n",
       "       [256. , 426.5,  59. ,  71. ,   7. , 131. , 254. , 246. ,   6. ],\n",
       "       [288. , 349.5,  91. ,  83. ,   2. ,  48. , 134. , 200. ,   6. ],\n",
       "       [365. , 270. ,  81. ,  76. ,   7. , 119. , 166. , 179. ,   6. ],\n",
       "       [412. , 186.5,  52. ,  91. ,   3. , 251. ,  37. , 103. ,   6. ]])"
      ]
     },
     "execution_count": 74,
     "metadata": {},
     "output_type": "execute_result"
    }
   ],
   "source": [
    "csv_data"
   ]
  },
  {
   "cell_type": "code",
   "execution_count": 105,
   "id": "366f7599-61ce-423c-839e-c1620cd5020d",
   "metadata": {},
   "outputs": [],
   "source": [
    "def simulate_with_dynamics(csv_tensor, iterations=500):\n",
    "    import pygame\n",
    "    import pymunk\n",
    "    import pymunk.pygame_util\n",
    "    import numpy as np\n",
    "\n",
    "    pygame.init()\n",
    "\n",
    "    # Initialize Pymunk\n",
    "    space = pymunk.Space()\n",
    "    space.gravity = (0, 9.8)\n",
    "\n",
    "    screen_width, screen_height = 512, 512\n",
    "    screen = pygame.Surface((screen_width, screen_height))\n",
    "    draw_options = pymunk.pygame_util.DrawOptions(screen)\n",
    "\n",
    "    # Add ground\n",
    "    ground = pymunk.Segment(space.static_body, (0, screen_height), (screen_width, screen_height), 0)\n",
    "    space.add(ground)\n",
    "\n",
    "    # Create blocks from CSV tensor\n",
    "    for block_data in csv_tensor:\n",
    "        pos_x, pos_y, width, height, mass, color_r, color_g, color_b, time = block_data\n",
    "\n",
    "        moment = pymunk.moment_for_box(mass, (width, height))\n",
    "        body = pymunk.Body(mass, moment)\n",
    "        body.position = (pos_x, pos_y)\n",
    "\n",
    "        shape = pymunk.Poly.create_box(body, (width, height))\n",
    "        shape.color = (color_r, color_g, color_b, 1.0)  # Normalize RGBA\n",
    "        space.add(body, shape)\n",
    "\n",
    "    iteration = 0\n",
    "    while iteration <= 1000:  \n",
    "        screen.fill((255, 255, 255))  # Clear the screen to white\n",
    "        space.debug_draw(draw_options)  # Draw the physics objects\n",
    "\n",
    "        if (iteration  ==  time * 50):\n",
    "            # Capture the current screen as a numpy array\n",
    "            img_array = pygame.surfarray.array3d(screen)  # Shape: (width, height, 3)\n",
    "            img_array = np.transpose(img_array, (1, 0, 2))  # Transpose to get the shape (height, width, 3)\n",
    "            \n",
    "            # Normalize the pixel values to [0, 1]\n",
    "            img_array = img_array.astype(np.float32) / 255.0\n",
    "            \n",
    "            # Convert block data to numpy array and then to a torch tensor (5x9)\n",
    "            block_tensor = np.array(block_data, dtype=np.float32)\n",
    "\n",
    "            return img_array\n",
    "            break \n",
    "        \n",
    "        space.step(1 / 60.0)  # Step the physics simulation\n",
    "        iteration += 1\n",
    "\n",
    "    pygame.quit()\n"
   ]
  },
  {
   "cell_type": "code",
   "execution_count": 106,
   "id": "3baf75da-ca5b-4da1-a00f-8dac483077b7",
   "metadata": {},
   "outputs": [],
   "source": [
    "final_image = simulate_with_dynamics(csv_data)"
   ]
  },
  {
   "cell_type": "code",
   "execution_count": 107,
   "id": "f909a679-72c8-4431-9261-62dc86f18580",
   "metadata": {},
   "outputs": [
    {
     "data": {
      "image/png": "[encoded data removed]",
      "text/plain": [
       "<Figure size 640x480 with 1 Axes>"
      ]
     },
     "metadata": {},
     "output_type": "display_data"
    }
   ],
   "source": [
    "import matplotlib.pyplot as plt\n",
    "plt.imshow(final_image)\n",
    "plt.axis('off')\n",
    "plt.show()"
   ]
  },
  {
   "cell_type": "code",
   "execution_count": null,
   "id": "5201af17-59f9-4cff-99a6-27e23cb2666a",
   "metadata": {},
   "outputs": [],
   "source": []
  }
 ],
 "metadata": {
  "kernelspec": {
   "display_name": "Python 3 (ipykernel)",
   "language": "python",
   "name": "python3"
  },
  "language_info": {
   "codemirror_mode": {
    "name": "ipython",
    "version": 3
   },
   "file_extension": ".py",
   "mimetype": "text/x-python",
   "name": "python",
   "nbconvert_exporter": "python",
   "pygments_lexer": "ipython3",
   "version": "3.9.20"
  }
 },
 "nbformat": 4,
 "nbformat_minor": 5
}
