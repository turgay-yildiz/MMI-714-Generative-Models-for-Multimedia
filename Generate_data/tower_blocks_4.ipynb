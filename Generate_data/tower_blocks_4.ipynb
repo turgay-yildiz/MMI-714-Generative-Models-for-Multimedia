{
 "cells": [
  {
   "cell_type": "code",
   "execution_count": 1,
   "id": "eb06ad19-3f40-4327-8021-e7e6afa8cf29",
   "metadata": {
    "tags": []
   },
   "outputs": [
    {
     "name": "stdout",
     "output_type": "stream",
     "text": [
      "pygame 2.2.0 (SDL 2.26.4, Python 3.9.20)\n",
      "Hello from the pygame community. https://www.pygame.org/contribute.html\n"
     ]
    }
   ],
   "source": [
    "import pymunk\n",
    "import random\n",
    "import pygame\n",
    "import cv2\n",
    "import numpy as np\n",
    "import os\n",
    "import pymunk.pygame_util \n",
    "import time\n",
    "import json\n",
    "import csv"
   ]
  },
  {
   "cell_type": "code",
   "execution_count": 2,
   "id": "895d88c0-5310-4d79-8d1c-f0810dd41729",
   "metadata": {},
   "outputs": [],
   "source": [
    "img_dir     = \"/home/turgay/falling_objects_dataset/temp_i\"  \n",
    "csv_dir     = \"/home/turgay/falling_objects_dataset/temp_c\""
   ]
  },
  {
   "cell_type": "code",
   "execution_count": 3,
   "id": "7ec5a584-6fd7-4e5d-b30f-1982c53c436e",
   "metadata": {},
   "outputs": [],
   "source": [
    "world_width  = 512\n",
    "world_height = 512\n",
    "xCenter      = world_width / 2"
   ]
  },
  {
   "cell_type": "code",
   "execution_count": 102,
   "id": "40676ae6-2f05-41c8-84bc-e47c147cbd26",
   "metadata": {},
   "outputs": [
    {
     "data": {
      "text/plain": [
       "6"
      ]
     },
     "execution_count": 102,
     "metadata": {},
     "output_type": "execute_result"
    }
   ],
   "source": [
    "49//8"
   ]
  },
  {
   "cell_type": "code",
   "execution_count": null,
   "id": "8a8c6721-4b0a-4538-992a-cc5f4b289e1d",
   "metadata": {},
   "outputs": [],
   "source": []
  },
  {
   "cell_type": "code",
   "execution_count": 103,
   "id": "09bd6ed8-d3bd-4731-927a-65acad4bbe45",
   "metadata": {},
   "outputs": [],
   "source": [
    "def dim():\n",
    "    return random.randint(50, 100)\n",
    "\n",
    "def xpos(prev_block):\n",
    "    prev_w = prev_block[2]  # width of the previous block\n",
    "    prev_x = prev_block[0]  # X position of the previous block\n",
    "    return random.randint( prev_x - prev_w + 5,  prev_x + prev_w - 5  )\n",
    "\n",
    "def ypos(prev_block, h):\n",
    "    prev_y = prev_block[1]  # Y position of the previous block\n",
    "    prev_h = prev_block[3]  # height of the previous block\n",
    "    return prev_y - ((prev_h/2)   +   (h  /  2)  ) \n",
    "\n",
    "\n",
    "def add_block(prev_block, is_first):\n",
    "    w = dim()\n",
    "    h = dim()\n",
    "    x = xCenter if is_first else xpos(prev_block)\n",
    "    y = ypos(prev_block, h)\n",
    "\n",
    "    return (x, y, w, h)\n",
    "\n",
    "def make_tower_world():\n",
    "    \n",
    "    ground_block = (xCenter, world_height-25, 100, 50)  \n",
    "    \n",
    "    block1 = add_block(ground_block, True)\n",
    "    block2 = add_block(block1, False)\n",
    "    block3 = add_block(block2, False)\n",
    "    block4 = add_block(block3, False)\n",
    "    return [ground_block, block1, block2, block3, block4]"
   ]
  },
  {
   "cell_type": "code",
   "execution_count": null,
   "id": "9a55d5fb-734d-4fbd-a4f5-2de5b8c23174",
   "metadata": {},
   "outputs": [],
   "source": []
  },
  {
   "cell_type": "code",
   "execution_count": 67,
   "id": "9eb18d1e-08e8-4723-a775-2609e84e30c3",
   "metadata": {
    "tags": []
   },
   "outputs": [],
   "source": [
    "def save_img(batch, iteration, screen):\n",
    "    \n",
    "#---------------------------------------------------------------------------------------------\n",
    "    pygame.image.save(screen, f\"{img_dir}/{np.int64(iteration / 50) + (batch * 20) }.png\")\n",
    "#---------------------------------------------------------------------------------------------            "
   ]
  },
  {
   "cell_type": "code",
   "execution_count": 68,
   "id": "3c2ae82d-6531-4eb1-bbbe-f0623faae17b",
   "metadata": {},
   "outputs": [],
   "source": [
    "def save_csv(block_data, batch, iteration):\n",
    "    \n",
    "#---------------------------------------------------------------------------------------------    \n",
    "    block_data2 = []\n",
    "    \n",
    "    blocks_for_csv        =   [data[\"block\"] for data in block_data[:]]\n",
    "    masses_for_csv        =   [data[\"mass\"] for data in block_data[:]]\n",
    "    color_r_for_csv       =   [data[\"color_r\"] for data in block_data[:]]   \n",
    "    color_g_for_csv       =   [data[\"color_g\"] for data in block_data[:]]\n",
    "    color_b_for_csv       =   [data[\"color_b\"] for data in block_data[:]]\n",
    "        \n",
    "    for block, mass, color_r, color_g, color_b in zip(blocks_for_csv, masses_for_csv, color_r_for_csv, color_g_for_csv, color_b_for_csv):\n",
    "        data = {\n",
    "            \"position_x\": block[0],\n",
    "            \"position_y\": block[1],\n",
    "            \"width\": block[2],\n",
    "            \"height\": block[3],\n",
    "            \"mass\": mass, \n",
    "            \"color_r\": color_r,\n",
    "            \"color_g\": color_g,\n",
    "            \"color_b\": color_b,\n",
    "            \"time\"      : iteration / 50\n",
    "        }\n",
    "        block_data2.append(data)\n",
    "\n",
    "#---------------------------------------------------------------------------------------------    \n",
    "    \n",
    "    csv_filename = f\"{csv_dir}/{np.int64(iteration / 50) + (batch * 20)}.csv\"\n",
    "    \n",
    "    # Check if CSV file exists to append or write headers\n",
    "    file_exists = os.path.exists(csv_filename)\n",
    "    with open(csv_filename, 'a', newline='') as csvfile:\n",
    "        fieldnames = [\"position_x\", \"position_y\", \"width\", \"height\", \"mass\", \"color_r\", \"color_g\", \"color_b\", \"time\"]\n",
    "        writer = csv.DictWriter(csvfile, fieldnames=fieldnames)\n",
    "        \n",
    "        # Write headers only if file doesn't exist\n",
    "        if not file_exists:\n",
    "            writer.writeheader()\n",
    "        \n",
    "        # Write the data of the blocks to the CSV file\n",
    "        writer.writerows(block_data2)\n"
   ]
  },
  {
   "cell_type": "code",
   "execution_count": 69,
   "id": "b62d2608-ea81-40ac-923d-682fc6af9dcb",
   "metadata": {
    "jupyter": {
     "source_hidden": true
    },
    "tags": []
   },
   "outputs": [],
   "source": [
    "def start_video(batch, fps=60):\n",
    "\n",
    "    video_path   =   f\"{video_dir}/{np.int64(batch) }.avi\"\n",
    "    \n",
    "    video_writer = cv2.VideoWriter(\n",
    "                                    video_path,\n",
    "                                    cv2.VideoWriter_fourcc(*'XVID'),\n",
    "                                    fps,\n",
    "                                    (world_width, world_height)\n",
    "                                    )\n",
    "    return video_writer"
   ]
  },
  {
   "cell_type": "code",
   "execution_count": 25,
   "id": "a82f840c-3491-40f2-87fc-75c1f8da0a50",
   "metadata": {
    "jupyter": {
     "source_hidden": true
    },
    "tags": []
   },
   "outputs": [],
   "source": [
    "def record_frames(video_writer, screen):\n",
    "\n",
    "    frame = pygame.surfarray.array3d(screen)  # Get frame data from Pygame\n",
    "    frame = np.transpose(frame, (1, 0, 2))    # Transpose to match OpenCV format\n",
    "    frame = cv2.cvtColor(frame, cv2.COLOR_RGB2BGR)  # Convert to OpenCV color format\n",
    "    video_writer.write(frame)  # Write frame to video file"
   ]
  },
  {
   "cell_type": "code",
   "execution_count": 26,
   "id": "d3f03744-1126-43ee-b9cc-5b3f2a778b43",
   "metadata": {
    "jupyter": {
     "source_hidden": true
    },
    "tags": []
   },
   "outputs": [],
   "source": [
    "def stop_video(video_writer):\n",
    "    video_writer.release()"
   ]
  },
  {
   "cell_type": "code",
   "execution_count": 106,
   "id": "2eccee93-d2d2-4fba-86f5-f6aa3a0796e5",
   "metadata": {
    "tags": []
   },
   "outputs": [],
   "source": [
    "def animate_tower(batch):\n",
    "    \n",
    "    pygame.init()\n",
    "    \n",
    "    space         = pymunk.Space()\n",
    "    space.gravity = (0, 9.8)\n",
    "\n",
    "    screen        = pygame.display.set_mode((world_width, world_height))\n",
    "    draw_options  = pymunk.pygame_util.DrawOptions(screen)\n",
    "\n",
    "    # Add ground \n",
    "    ground = pymunk.Segment(space.static_body, (0, world_height), (world_width, world_height), 0) \n",
    "    space.add(ground)\n",
    "\n",
    "    # Create blocks for the tower\n",
    "    blocks     = make_tower_world()\n",
    "    block_data = []\n",
    "\n",
    "    for block in blocks:\n",
    "        \n",
    "        mass          = random.randint(1, 10)\n",
    "        moment        = pymunk.moment_for_box(mass, (block[2], block[3]))   # mass, size(width, height)   obj= (x, y, w, h) \n",
    "        body          = pymunk.Body(mass, moment)\n",
    "        body.position = (block[0], block[1]) \n",
    "\n",
    "        shape   = pymunk.Poly.create_box(body, (block[2], block[3]))\n",
    "        \n",
    "        r, g, b = random.randint(0, 255), random.randint(0, 255), random.randint(0, 255)\n",
    "        shape.color = (r , g, b, 1.0)\n",
    "\n",
    "        space.add(body, shape)\n",
    "        block_data.append({\"mass\": mass, \"block\": block, \"color_r\": r, \"color_g\": g, \"color_b\": b })\n",
    "\n",
    "    \n",
    "    iteration = 0\n",
    "    while iteration <= 1000:  \n",
    "                   \n",
    "        screen.fill((255, 255, 255))  \n",
    "        space.debug_draw(draw_options)\n",
    "        pygame.display.flip()\n",
    "\n",
    "        if iteration % 50  == 0:\n",
    "                \n",
    "            save_img(batch, iteration, screen)\n",
    "            save_csv(block_data, batch, iteration)\n",
    "\n",
    "        space.step(1 / 60.0)  # Step the physics simulation\n",
    "        iteration += 1\n",
    "        \n",
    "\n",
    "    pygame.quit()"
   ]
  },
  {
   "cell_type": "code",
   "execution_count": 107,
   "id": "63621089-4851-4594-b5bf-8f0c3fdebf25",
   "metadata": {},
   "outputs": [],
   "source": [
    "for i in range(5):\n",
    "    \n",
    "    animate_tower(i) \n",
    "\n"
   ]
  },
  {
   "cell_type": "code",
   "execution_count": 40,
   "id": "d4e23979-97b7-48a8-be19-a182efbc4147",
   "metadata": {},
   "outputs": [
    {
     "data": {
      "text/plain": [
       "8.333333333333334"
      ]
     },
     "execution_count": 40,
     "metadata": {},
     "output_type": "execute_result"
    }
   ],
   "source": [
    "100 * 5 / (60)"
   ]
  },
  {
   "cell_type": "markdown",
   "id": "f8492156-b915-495c-b35e-187aa6f731b6",
   "metadata": {},
   "source": [
    "###   Take one image from simulation : "
   ]
  },
  {
   "cell_type": "code",
   "execution_count": 112,
   "id": "eaa59433-f4df-4f03-b1bb-e3a0d5b90e61",
   "metadata": {},
   "outputs": [],
   "source": [
    "def animate_tower():\n",
    "    \n",
    "    pygame.init()\n",
    "    \n",
    "    space         = pymunk.Space()\n",
    "    space.gravity = (0, 9.8)\n",
    "\n",
    "    screen        = pygame.display.set_mode((world_width, world_height))\n",
    "    draw_options  = pymunk.pygame_util.DrawOptions(screen)\n",
    "\n",
    "    # Add ground \n",
    "    ground = pymunk.Segment(space.static_body, (0, world_height), (world_width, world_height), 0) \n",
    "    space.add(ground)\n",
    "\n",
    "    # Create blocks for the tower\n",
    "    blocks     = make_tower_world()\n",
    "    block_data = []\n",
    "\n",
    "    for block in blocks:\n",
    "        \n",
    "        mass          = random.randint(1, 10)\n",
    "        moment        = pymunk.moment_for_box(mass, (block[2], block[3]))   # mass, size(width, height)   obj= (x, y, w, h) \n",
    "        body          = pymunk.Body(mass, moment)\n",
    "        body.position = (block[0], block[1]) \n",
    "\n",
    "        shape   = pymunk.Poly.create_box(body, (block[2], block[3]))\n",
    "        \n",
    "        r, g, b = random.randint(0, 255), random.randint(0, 255), random.randint(0, 255)\n",
    "        shape.color = (r , g, b, 1.0)\n",
    "\n",
    "        space.add(body, shape)\n",
    "        # Assign random color for each block\n",
    "        r, g, b = random.randint(0, 255), random.randint(0, 255), random.randint(0, 255)\n",
    "        shape.color = (r , g , b , 1.0)  # Normalize to [0, 1] for pygame\n",
    "        \n",
    "        # Collect block data (x, y, width, height, mass, r, g, b)\n",
    "        block_data.append([block[0], block[1], block[2], block[3], mass, r, g, b, 1])  # Time is set to 1 for now\n",
    "\n",
    "\n",
    "    iteration = 0\n",
    "    while iteration <= 1000:  \n",
    "        screen.fill((255, 255, 255))  # Clear the screen to white\n",
    "        space.debug_draw(draw_options)  # Draw the physics objects\n",
    "        pygame.display.flip()  # Update the display\n",
    "\n",
    "        if iteration % 50 == 0:\n",
    "            # Capture the current screen as a numpy array\n",
    "            img_array = pygame.surfarray.array3d(screen)  # Shape: (width, height, 3)\n",
    "            img_array = np.transpose(img_array, (1, 0, 2))  # Transpose to get the shape (height, width, 3)\n",
    "            \n",
    "            # Normalize the pixel values to [0, 1]\n",
    "            img_array = img_array.astype(np.float32) / 255.0\n",
    "            \n",
    "            # Convert block data to numpy array and then to a torch tensor (5x9)\n",
    "            block_tensor = np.array(block_data, dtype=np.float32)\n",
    "\n",
    "            # Return the image and block data as a tuple\n",
    "            return img_array, block_tensor\n",
    "            break \n",
    "        \n",
    "        space.step(1 / 60.0)  # Step the physics simulation\n",
    "        iteration += 1\n",
    "\n",
    "    pygame.quit()"
   ]
  },
  {
   "cell_type": "code",
   "execution_count": 113,
   "id": "8b4e15ae-ecbf-46a4-8c7f-c8eab2caef4f",
   "metadata": {},
   "outputs": [],
   "source": [
    "img, csv   =   animate_tower() "
   ]
  },
  {
   "cell_type": "code",
   "execution_count": 114,
   "id": "117e944c-2c7a-421c-8adc-5fb62e710ba5",
   "metadata": {},
   "outputs": [
    {
     "data": {
      "text/plain": [
       "((512, 512, 3), (5, 9))"
      ]
     },
     "execution_count": 114,
     "metadata": {},
     "output_type": "execute_result"
    }
   ],
   "source": [
    "img.shape, csv.shape"
   ]
  },
  {
   "cell_type": "code",
   "execution_count": null,
   "id": "ad6885f4-ad54-4ce9-8b4a-21a3ed7428cb",
   "metadata": {},
   "outputs": [],
   "source": []
  },
  {
   "cell_type": "code",
   "execution_count": null,
   "id": "a918757f-9c67-406d-b9e7-b92a48ca7c8e",
   "metadata": {},
   "outputs": [],
   "source": []
  },
  {
   "cell_type": "code",
   "execution_count": 120,
   "id": "63ae760e-78d3-464d-bc17-2bbdfc2ec12d",
   "metadata": {},
   "outputs": [],
   "source": [
    "def simulate(csv_tensor):\n",
    "\n",
    "    pygame.init()\n",
    "\n",
    "    # Initialize Pygame and Pymunk\n",
    "    screen_width, screen_height = 512, 512\n",
    "    screen                      = pygame.Surface((screen_width, screen_height))\n",
    "    space                       = pymunk.Space()\n",
    "    draw_options                = pymunk.pygame_util.DrawOptions(screen)\n",
    "\n",
    " \n",
    "    ground         = pymunk.Segment(space.static_body, (0, 512), (512, 512), 0)  # height as radius\n",
    "    space.add(ground)\n",
    "\n",
    "    # Blocks (rows 1-4 of the tensor)\n",
    "    for block_data in csv_tensor[:]:\n",
    "        pos_x, pos_y, width, height, mass, color_r, color_g, color_b, _ = block_data\n",
    "\n",
    "        # Create a dynamic body and its shape\n",
    "        moment        = pymunk.moment_for_box(mass, (width, height))\n",
    "        body          = pymunk.Body(mass, moment)\n",
    "        body.position = (pos_x, pos_y)\n",
    "        shape         = pymunk.Poly.create_box(body, (width, height))\n",
    "\n",
    "        # Assign color to the block\n",
    "        shape.color = (color_r , color_g , color_b, 1)  # Normalize RGBA\n",
    "        space.add(body, shape)\n",
    "\n",
    "    screen.fill((255, 255, 255))     # Clear the surface with a white background\n",
    "    space.debug_draw(draw_options)   # Draw the blocks to the screen \n",
    "\n",
    "    # Extract the screen image as a NumPy array\n",
    "    img_array = pygame.surfarray.array3d(screen)\n",
    "    img_array = img_array.transpose(1, 0, 2)  # Convert to (H, W, C)\n",
    "\n",
    "    pygame.quit()\n",
    "    return img_array\n"
   ]
  },
  {
   "cell_type": "code",
   "execution_count": 121,
   "id": "dbc3551a-b9ec-495a-9060-c6266301a83a",
   "metadata": {},
   "outputs": [],
   "source": [
    "img_array   =   simulate(csv)"
   ]
  },
  {
   "cell_type": "code",
   "execution_count": 122,
   "id": "e12ad11f-66aa-47c8-9ecc-12651f36063b",
   "metadata": {},
   "outputs": [
    {
     "data": {
      "text/plain": [
       "(512, 512, 3)"
      ]
     },
     "execution_count": 122,
     "metadata": {},
     "output_type": "execute_result"
    }
   ],
   "source": [
    "img_array.shape"
   ]
  },
  {
   "cell_type": "code",
   "execution_count": 123,
   "id": "778707d0-0d06-4b75-82f5-2db2b455e813",
   "metadata": {},
   "outputs": [
    {
     "data": {
      "image/png": "[encoded data removed]",
      "text/plain": [
       "<Figure size 1000x500 with 2 Axes>"
      ]
     },
     "metadata": {},
     "output_type": "display_data"
    }
   ],
   "source": [
    "import matplotlib.pyplot as plt\n",
    "fig, axes = plt.subplots(1, 2, figsize=(10, 5))\n",
    "\n",
    "# Plot the first image in the first subplot\n",
    "axes[0].imshow(img_array)\n",
    "axes[0].axis('off')  # Hide the axes for a cleaner plot\n",
    "axes[0].set_title(\"Image array\")  # Optional: Title for the first image\n",
    "\n",
    "# Plot the second image in the second subplot\n",
    "axes[1].imshow(img)\n",
    "axes[1].axis('off')  # Hide the axes for a cleaner plot\n",
    "axes[1].set_title(\"Image original\")  # Optional: Title for the second image\n",
    "\n",
    "# Show the plot\n",
    "plt.show()"
   ]
  },
  {
   "cell_type": "code",
   "execution_count": null,
   "id": "0d964bd9-5682-49c7-8d62-50e69de18c30",
   "metadata": {},
   "outputs": [],
   "source": []
  }
 ],
 "metadata": {
  "kernelspec": {
   "display_name": "Python 3 (ipykernel)",
   "language": "python",
   "name": "python3"
  },
  "language_info": {
   "codemirror_mode": {
    "name": "ipython",
    "version": 3
   },
   "file_extension": ".py",
   "mimetype": "text/x-python",
   "name": "python",
   "nbconvert_exporter": "python",
   "pygments_lexer": "ipython3",
   "version": "3.9.20"
  }
 },
 "nbformat": 4,
 "nbformat_minor": 5
}
