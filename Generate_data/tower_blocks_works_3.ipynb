{
 "cells": [
  {
   "cell_type": "code",
   "execution_count": 26,
   "id": "eb06ad19-3f40-4327-8021-e7e6afa8cf29",
   "metadata": {
    "tags": []
   },
   "outputs": [],
   "source": [
    "import pymunk\n",
    "import random\n",
    "import pygame\n",
    "import cv2\n",
    "import numpy as np\n",
    "import os\n",
    "import pymunk.pygame_util \n",
    "import time\n",
    "import json\n",
    "import csv"
   ]
  },
  {
   "cell_type": "code",
   "execution_count": 27,
   "id": "895d88c0-5310-4d79-8d1c-f0810dd41729",
   "metadata": {},
   "outputs": [],
   "source": [
    "img_dir     = \"/home/turgay/falling_objects_dataset/img_files/\"  \n",
    "csv_dir     = \"/home/turgay/falling_objects_dataset/csv_files/\""
   ]
  },
  {
   "cell_type": "code",
   "execution_count": 28,
   "id": "7ec5a584-6fd7-4e5d-b30f-1982c53c436e",
   "metadata": {},
   "outputs": [],
   "source": [
    "world_width  = 512\n",
    "world_height = 512\n",
    "xCenter      = world_width / 2"
   ]
  },
  {
   "cell_type": "code",
   "execution_count": 29,
   "id": "09bd6ed8-d3bd-4731-927a-65acad4bbe45",
   "metadata": {},
   "outputs": [],
   "source": [
    "def dim():\n",
    "    return random.randint(50, 100)\n",
    "\n",
    "def xpos(prev_block):\n",
    "    prev_w = prev_block[2]  # width of the previous block\n",
    "    prev_x = prev_block[0]  # X position of the previous block\n",
    "    return random.randint(prev_x - prev_w, prev_x + prev_w)\n",
    "\n",
    "def ypos(prev_block, h):\n",
    "    prev_y = prev_block[1]  # Y position of the previous block\n",
    "    prev_h = prev_block[3]  # height of the previous block\n",
    "    return prev_y - (prev_h)\n",
    "\n",
    "\n",
    "def add_block(prev_block, is_first):\n",
    "    w = dim()\n",
    "    h = dim()\n",
    "    x = xCenter if is_first else xpos(prev_block)\n",
    "    y = ypos(prev_block, h)\n",
    "\n",
    "    return (x, y, w, h)\n",
    "\n",
    "def make_tower_world():\n",
    "    \n",
    "    ground_block = (xCenter, world_height - 10, world_width, 10)\n",
    "    \n",
    "    block1 = add_block(ground_block, True)\n",
    "    block2 = add_block(block1, False)\n",
    "    block3 = add_block(block2, False)\n",
    "    block4 = add_block(block3, False)\n",
    "    block5 = add_block(block4, False)\n",
    "    return [ground_block, block1, block2, block3, block4, block5]"
   ]
  },
  {
   "cell_type": "code",
   "execution_count": 30,
   "id": "881f05c6-fb82-4306-aa1b-674d7de269d3",
   "metadata": {},
   "outputs": [],
   "source": [
    "ground_block = (xCenter, world_height - 10, world_width, 10)"
   ]
  },
  {
   "cell_type": "code",
   "execution_count": null,
   "id": "9a55d5fb-734d-4fbd-a4f5-2de5b8c23174",
   "metadata": {},
   "outputs": [],
   "source": []
  },
  {
   "cell_type": "code",
   "execution_count": 31,
   "id": "9eb18d1e-08e8-4723-a775-2609e84e30c3",
   "metadata": {
    "tags": []
   },
   "outputs": [],
   "source": [
    "def save_img(batch, iteration, screen):\n",
    "    \n",
    "#---------------------------------------------------------------------------------------------\n",
    "    pygame.image.save(screen, f\"{img_dir}/{np.int64(iteration / 50) + (batch * 20) }.png\")\n",
    "#---------------------------------------------------------------------------------------------            "
   ]
  },
  {
   "cell_type": "code",
   "execution_count": 32,
   "id": "3c2ae82d-6531-4eb1-bbbe-f0623faae17b",
   "metadata": {},
   "outputs": [],
   "source": [
    "def save_csv(block_data, batch, iteration):\n",
    "    \n",
    "#---------------------------------------------------------------------------------------------    \n",
    "    block_data2 = []\n",
    "    \n",
    "    blocks_for_csv        =   [data[\"block\"] for data in block_data[:5]]\n",
    "    masses_for_csv        =   [data[\"mass\"] for data in block_data[:5]]\n",
    "    color_r_for_csv       =   [data[\"color_r\"] for data in block_data[:5]]   \n",
    "    color_g_for_csv       =   [data[\"color_g\"] for data in block_data[:5]]\n",
    "    color_b_for_csv       =   [data[\"color_b\"] for data in block_data[:5]]\n",
    "        \n",
    "    for block, mass, color_r, color_g, color_b in zip(blocks_for_csv, masses_for_csv, color_r_for_csv, color_g_for_csv, color_b_for_csv):\n",
    "        data = {\n",
    "            \"position_x\": block[0],\n",
    "            \"position_y\": block[1],\n",
    "            \"width\": block[2],\n",
    "            \"height\": block[3],\n",
    "            \"mass\": mass, \n",
    "            \"color_r\": color_r,\n",
    "            \"color_g\": color_g,\n",
    "            \"color_b\": color_b,\n",
    "            \"time\"      : iteration / 50\n",
    "        }\n",
    "        block_data2.append(data)\n",
    "\n",
    "#---------------------------------------------------------------------------------------------    \n",
    "    \n",
    "    csv_filename = f\"{csv_dir}/{np.int64(iteration / 50) + (batch * 20)}.csv\"\n",
    "    \n",
    "    # Check if CSV file exists to append or write headers\n",
    "    file_exists = os.path.exists(csv_filename)\n",
    "    with open(csv_filename, 'a', newline='') as csvfile:\n",
    "        fieldnames = [\"position_x\", \"position_y\", \"width\", \"height\", \"mass\", \"color_r\", \"color_g\", \"color_b\", \"time\"]\n",
    "        writer = csv.DictWriter(csvfile, fieldnames=fieldnames)\n",
    "        \n",
    "        # Write headers only if file doesn't exist\n",
    "        if not file_exists:\n",
    "            writer.writeheader()\n",
    "        \n",
    "        # Write the data of the blocks to the CSV file\n",
    "        writer.writerows(block_data2)\n"
   ]
  },
  {
   "cell_type": "code",
   "execution_count": 33,
   "id": "b62d2608-ea81-40ac-923d-682fc6af9dcb",
   "metadata": {
    "jupyter": {
     "source_hidden": true
    },
    "tags": []
   },
   "outputs": [],
   "source": [
    "def start_video(batch, fps=60):\n",
    "\n",
    "    video_path   =   f\"{video_dir}/{np.int64(batch) }.avi\"\n",
    "    \n",
    "    video_writer = cv2.VideoWriter(\n",
    "                                    video_path,\n",
    "                                    cv2.VideoWriter_fourcc(*'XVID'),\n",
    "                                    fps,\n",
    "                                    (world_width, world_height)\n",
    "                                    )\n",
    "    return video_writer"
   ]
  },
  {
   "cell_type": "code",
   "execution_count": 34,
   "id": "a82f840c-3491-40f2-87fc-75c1f8da0a50",
   "metadata": {
    "jupyter": {
     "source_hidden": true
    },
    "tags": []
   },
   "outputs": [],
   "source": [
    "def record_frames(video_writer, screen):\n",
    "\n",
    "    frame = pygame.surfarray.array3d(screen)  # Get frame data from Pygame\n",
    "    frame = np.transpose(frame, (1, 0, 2))    # Transpose to match OpenCV format\n",
    "    frame = cv2.cvtColor(frame, cv2.COLOR_RGB2BGR)  # Convert to OpenCV color format\n",
    "    video_writer.write(frame)  # Write frame to video file"
   ]
  },
  {
   "cell_type": "code",
   "execution_count": 35,
   "id": "d3f03744-1126-43ee-b9cc-5b3f2a778b43",
   "metadata": {
    "jupyter": {
     "source_hidden": true
    },
    "tags": []
   },
   "outputs": [],
   "source": [
    "def stop_video(video_writer):\n",
    "    video_writer.release()"
   ]
  },
  {
   "cell_type": "code",
   "execution_count": 36,
   "id": "2eccee93-d2d2-4fba-86f5-f6aa3a0796e5",
   "metadata": {
    "tags": []
   },
   "outputs": [],
   "source": [
    "def animate_tower(batch):\n",
    "    \n",
    "    pygame.init()\n",
    "    \n",
    "    space         = pymunk.Space()\n",
    "    space.gravity = (0, 9.8)\n",
    "\n",
    "    screen        = pygame.display.set_mode((world_width, world_height))\n",
    "    draw_options  = pymunk.pygame_util.DrawOptions(screen)\n",
    "\n",
    "    # Add ground\n",
    "    ground = pymunk.Segment(space.static_body, (0, world_height - 10), (world_width, world_height - 10), 1)\n",
    "    space.add(ground)\n",
    "\n",
    "    # Create blocks for the tower\n",
    "    blocks     = make_tower_world()\n",
    "    block_data = []\n",
    "\n",
    "    for block in blocks:\n",
    "        \n",
    "        mass          = random.randint(1, 10)\n",
    "        moment        = pymunk.moment_for_box(mass, (block[2], block[3]))   # mass, size(width, height)   obj= (x, y, w, h, c) \n",
    "        body          = pymunk.Body(mass, moment)\n",
    "        body.position = (block[0], block[1]) \n",
    "\n",
    "        shape   = pymunk.Poly.create_box(body, (block[2], block[3]))\n",
    "        \n",
    "        r, g, b = random.randint(0, 255), random.randint(0, 255), random.randint(0, 255)\n",
    "        shape.color = (r , g, b, 1.0)\n",
    "\n",
    "        space.add(body, shape)\n",
    "        block_data.append({\"mass\": mass, \"block\": block, \"color_r\": r, \"color_g\": g, \"color_b\": b })\n",
    "\n",
    "    \n",
    "    iteration = 1\n",
    "    while iteration <= 1000:  \n",
    "                   \n",
    "        screen.fill((255, 255, 255))  \n",
    "        space.debug_draw(draw_options)\n",
    "        pygame.display.flip()\n",
    "\n",
    "        if iteration % 50  == 0:\n",
    "                \n",
    "            save_img(batch, iteration, screen)\n",
    "            save_csv(block_data, batch, iteration)\n",
    "\n",
    "        space.step(1 / 60.0)  # Step the physics simulation\n",
    "        iteration += 1\n",
    "        \n",
    "\n",
    "    pygame.quit()"
   ]
  },
  {
   "cell_type": "code",
   "execution_count": 37,
   "id": "63621089-4851-4594-b5bf-8f0c3fdebf25",
   "metadata": {},
   "outputs": [],
   "source": [
    "for i in range():\n",
    "    \n",
    "    animate_tower(i) \n",
    "\n"
   ]
  },
  {
   "cell_type": "code",
   "execution_count": null,
   "id": "d4e23979-97b7-48a8-be19-a182efbc4147",
   "metadata": {},
   "outputs": [],
   "source": []
  }
 ],
 "metadata": {
  "kernelspec": {
   "display_name": "Python 3 (ipykernel)",
   "language": "python",
   "name": "python3"
  },
  "language_info": {
   "codemirror_mode": {
    "name": "ipython",
    "version": 3
   },
   "file_extension": ".py",
   "mimetype": "text/x-python",
   "name": "python",
   "nbconvert_exporter": "python",
   "pygments_lexer": "ipython3",
   "version": "3.9.20"
  }
 },
 "nbformat": 4,
 "nbformat_minor": 5
}
